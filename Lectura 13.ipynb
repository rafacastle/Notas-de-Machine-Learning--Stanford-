{
 "cells": [
  {
   "cell_type": "markdown",
   "id": "241a0650",
   "metadata": {},
   "source": [
    "# Lectura 13\n",
    "## RafaCastle\n",
    "## 13.1 Clustering - Introducción al aprendizaje no supervizado"
   ]
  },
  {
   "cell_type": "markdown",
   "id": "8fb24716",
   "metadata": {},
   "source": [
    "En los algoritmos no supervizados, los conjuntos de datos no están etiquetados, es decir no se tienen conjuntos de la forma:\n",
    "\n",
    "$$\n",
    "{(x^{(1)},y^{(1)}), (x^{(2)},y^{(2)}),...,(x^{(m)},y^{(m)})}\n",
    "$$\n",
    "\n",
    "sino que se tienen conjuntos tales que:\n",
    "\n",
    "$$\n",
    "\\{x^{(1)}, x^{(2)},...,x^{(m)}\\}\n",
    "$$\n",
    "\n",
    "De manera gráfica, los conjuntos de aprendizaje supervizado se ven como la gráfica de la izquierda y los conjuntos del aprendizaje no supervizado se ven como la gráfica de la derecha:\n",
    "\n",
    "![Title](Imágenes/13-1-1.png)\n",
    "\n",
    "Así es que en el aprendizaje no supervizado un algoritmo toma este conjunto no etiquetado y encuentra alguna estructura para categorizar a los puntos. Puede encontrar una línea que los separe o encerrarlos en clusters (algoritmos de aglomeramiento):\n",
    "\n",
    "![Title](Imágenes/13-1-2.png)"
   ]
  },
  {
   "cell_type": "markdown",
   "id": "7407f1fc",
   "metadata": {},
   "source": [
    "## 13.2 K-Means"
   ]
  },
  {
   "cell_type": "markdown",
   "id": "1e358354",
   "metadata": {},
   "source": [
    "El algoritmo K-Means es sin duda el algoritmo de aglomeración no supervizado más utilizado de todos. La mejor forma de ilustrar su funcionamiento es en imágenes. Supongamos que se quiere aglomerar el siguiente conjunto en 2 categorías:\n",
    "\n",
    "![Title](Imágenes/13-2-1.png)\n",
    "\n",
    "El primer paso de este algoritmo es dar 2 puntos aleatorios denominados centroides:\n",
    "\n",
    "![Title](Imágenes/13-2-2.png)\n",
    "\n",
    "Lo primero que hará el algoritmo es categorizar a los puntos de acuerdo a la distancia hacia los centroides como se muestra a continuación:\n",
    "\n",
    "![Title](Imágenes/13-2-3.png)\n",
    "\n",
    "A continuación el algoritmo moverá los centroides a el punto promedio de los puntos con el mismo color:\n",
    "\n",
    "![Title](Imágenes/13-2-4.png)\n",
    "\n",
    "Se repetirá el proceso y el algoritmo volverá a categorizar los puntos de acuerdo a la distancia \n",
    "\n",
    "![Title](Imágenes/13-2-5.png)\n",
    "\n",
    "Estos pasos se repetirán hasta que la posición de los centroides deje de cambiar.\n",
    "\n",
    "![Title](Imágenes/13-2-6.png)"
   ]
  },
  {
   "cell_type": "markdown",
   "id": "f03c1bd7",
   "metadata": {},
   "source": [
    "Definamos ahora el algoritmo K-Means de una manera más formal. El algoritmo requiere 2 inputs, el número de clusters $K$ y el conjunto de entrenamiento $\\{x^{(1)}, x^{(2)}, ..., x^{(m)}\\}$. Donde $x^{(i)} \\in R^n$ donde $x_o = 1$ por convención.\n",
    "\n",
    "El algoritmo da $K$ centroides $\\mu_1, \\mu_2, ... , \\mu_K \\in R^n$ y aplica el siguiente algoritmo:\n",
    "\n",
    "    Repite{\n",
    "    for i = 1,m\n",
    "    c^i:= índice (de 1 a K) del centroide más cercano a x^i \n",
    "    \n",
    "    for k=1,K\n",
    "    \\mu_k := promedio de puntos asignados al cluster k\n",
    "    }\n",
    "    \n",
    "Lo que hace el primer for es medir la distancia entre $x^{(i)}$ y $\\mu_k$ variando $k$ y escogiendo la menor para un determinado valor de $k$. O de otra forma:\n",
    "\n",
    "$$\n",
    "c^{(i)} := k \\text{ tal que } || x^{(i)} - \\mu_k|| =  min(\\{|| x^{(i)} - \\mu_1||,|| x^{(i)} - \\mu_2||, ..., || x^{(i)} - \\mu_K||\\})\n",
    "$$\n",
    "\n",
    "El segundo for calcula el punto promedio entre los valores de las categorías, por ejemplo, supongamos que $c^{(1)}, c^{(2)}, c^{(3)}$ son todos 1. Entonces se tendría \n",
    "\n",
    "$$\n",
    "\\mu_1 = \\frac{1}{3} (x^{(1)} + x^{(2)} + x^{(3)})\n",
    "$$\n",
    "\n",
    "El algoritmo se repite hasta que los centroides dejen de cambiar de posición o su cambio comience a ser despreciable.\n"
   ]
  },
  {
   "cell_type": "markdown",
   "id": "d5cc609e",
   "metadata": {},
   "source": [
    "## 13.3 Objetivo de optimización"
   ]
  },
  {
   "cell_type": "markdown",
   "id": "573d2934",
   "metadata": {},
   "source": [
    "Resulta útil denominar a los centroides calculados por medio del promedio de los puntos como $\\mu_{c^{(i)}}$. Solo para ilustar se muestra lo siguiente. Supongamos que el punto $x^{(i)}$ ha sido asignado al cluster 5, esto quiere decir que $c^{(i)}=5$, por lo que $\\mu_{c^{(i)}} = \\mu_5$.\n",
    "\n",
    "La cost function que el algoritmo de K-Means intenta minimizar es entonces de la forma:\n",
    "\n",
    "$$\n",
    "J(c^{(1)},...,c^{(m)},\\mu_1,...,\\mu_K) = \\frac{1}{M} \\sum_{i=1}^m || x^{(i)} - \\mu_{c^{(i)}} ||^2\n",
    "$$\n",
    "\n",
    "Es claro que la parte derecha de la igualdad es la norma entre los puntos de entrenamiento y los centroides escogidos, que es justamente el parámetro que se busca minimizar."
   ]
  },
  {
   "cell_type": "markdown",
   "id": "f9e641dc",
   "metadata": {},
   "source": [
    "## 13.4 Inicialización aleatoria"
   ]
  },
  {
   "cell_type": "markdown",
   "id": "40f7a604",
   "metadata": {},
   "source": [
    "No se ha hablado mucho sobre los valores iniciales que se le dan a los centroides. Como primer punto, se debe tomar $K<m$. Además, es posible que los puntos tomados no sean del todo \"afortunados\", es decir, puede darse un caso donde, por la forma en la que se escogieron los centroides iniciales, no se llegue a una clasificación óptima. En la siguiente figura, se muestran 3 categorizaciones para el mismo conjunto de datos. En la primera se muestra una categorización óptima, en las otras 2 se muestran categorizaciones que no parecen naturales. Estas  categorizaciones se deben a que los centroides se escogieron de manera desafortunada al principio.\n",
    "\n",
    "![Title](Imágenes/13-4-1.png)"
   ]
  },
  {
   "cell_type": "markdown",
   "id": "8d7b177a",
   "metadata": {},
   "source": [
    "Para evitar caer en este error, se recomienda dar diversos valores aleatorios iniciales a los centroides varias veces y correr el algoritmo para asegurarse que se está llegando a la aglomeración más óptima. Una vez que se haya corrido K-Means unas 100 veces, se recopilan las cost functions y se escoge la inicialización con la cual se haya obtenido la menor cost function $J$."
   ]
  },
  {
   "cell_type": "markdown",
   "id": "2573b718",
   "metadata": {},
   "source": [
    "## 13.5 Escogiendo el número de clusters"
   ]
  },
  {
   "cell_type": "markdown",
   "id": "d09376c0",
   "metadata": {},
   "source": [
    "El número de clusters puede escogerse de manera visual cuando se tienen conjuntos de datos en 2 o incluso 3 dimensiones y la división es clara. Sin embargo existen formas matemáticas de escogerlos. Tomemos el siguiente ejemplo.\n",
    "\n",
    "![Title](Imágenes/13-5-1.png)\n",
    "\n",
    "Ciertas personas podrían decir que este conjunto de datos puede categorizarse en 4 clusters diferentes, otras en 2 y quizás algunas otras en 3. En general es ambiguo detetcar el número de clusters a simple vista.\n",
    "\n",
    "Existe un método llamado el método del codo (elbow method), donde se grafica la cost function contra el número de clusters $K$.\n",
    "\n",
    "![Title](Imágenes/12-5-2.png)"
   ]
  },
  {
   "cell_type": "markdown",
   "id": "0d7895bc",
   "metadata": {},
   "source": [
    "En caso de que la función grafida de un cambio muy abrupto en su comportamiento y empiece a disminuir más lentamente para un cierto punto, como se muestra en la gráfica de la izquierda. Se tomará el número de clusters marcado por dicho punto, en este caso $K=3$. Sin embargo algunas gráficas no muestran este comportamiento para ningún, punto como la que se muestra en la gráfica de la derecha. Por lo que existe otra forma de escoger el número de clusters para estos casos y simplemente se trata de entender el contexto del problema y asignar de manera subjetiva el número de clusters que más convenga (no muy científico pero sirve para problemas de negocio)."
   ]
  }
 ],
 "metadata": {
  "kernelspec": {
   "display_name": "Python 3",
   "language": "python",
   "name": "python3"
  },
  "language_info": {
   "codemirror_mode": {
    "name": "ipython",
    "version": 3
   },
   "file_extension": ".py",
   "mimetype": "text/x-python",
   "name": "python",
   "nbconvert_exporter": "python",
   "pygments_lexer": "ipython3",
   "version": "3.8.8"
  }
 },
 "nbformat": 4,
 "nbformat_minor": 5
}
