{
 "cells": [
  {
   "cell_type": "markdown",
   "id": "80898dc1",
   "metadata": {},
   "source": [
    "# Lectura 6\n",
    "\n",
    "## RafaCastle\n",
    "\n",
    "## 6.1 Regresión Logística - Clasificación\n",
    "\n"
   ]
  },
  {
   "cell_type": "markdown",
   "id": "6d6738d7",
   "metadata": {},
   "source": [
    "Los problemas de clasificación se dan cuando la variable a predecir toma únicamente valores discretos $y \\in \\{ 0,1,2,3,...,n \\}$. ¿Cómo se define entonces un algoritmo de clasificación?"
   ]
  },
  {
   "cell_type": "markdown",
   "id": "ad17da36",
   "metadata": {},
   "source": [
    "![Title](Imágenes\6-1-1.png)"
   ]
  },
  {
   "cell_type": "markdown",
   "id": "4273d947",
   "metadata": {},
   "source": [
    "Si se tiene un conjunto de datos como en la imagen anterior, que clasifica a los tumores de ciertos pacientes como malignos o benignos. Un algoritmo como el que hemos visto hasta ahora (regresión lineal) nos regresará una línea recta que se ajuste al conjunto \n",
    "\n",
    "![Title](Imágenes\\6-1-2.png)"
   ]
  },
  {
   "cell_type": "markdown",
   "id": "cf7284a5",
   "metadata": {},
   "source": [
    "Donde la recta está dada por la ecuación:\n",
    "\n",
    "$$\n",
    "h_\\theta (x) = \\theta^T x\n",
    "$$\n",
    "\n",
    "y puede definirse un clasificador de la forma:\n",
    "\n",
    " - Si $h_\\theta (x) \\geq 0.5$, entonces $y=1$\n",
    " - Si $h_\\theta (x) \\leq 0.5$, entonces $y=0$\n",
    " \n",
    "Para este caso en particular la regresión lineal podría resultar muy útil, pero ¿qué pasaría si agregamos un dato al conjunto?"
   ]
  },
  {
   "cell_type": "markdown",
   "id": "20643af3",
   "metadata": {},
   "source": [
    "![Title](Imágenes\\6-1-3.png)"
   ]
  },
  {
   "cell_type": "markdown",
   "id": "3c9175a1",
   "metadata": {},
   "source": [
    "En este caso la regresión lineal nos regresaría un ajuste como el siguiente:\n",
    " \n",
    "![Title](Imágenes\\6-1-4.png)"
   ]
  },
  {
   "cell_type": "markdown",
   "id": "00f93cdb",
   "metadata": {},
   "source": [
    "De modo que la función $h_\\theta (x)$ sería menor a 0.5 para tumores de un tamaño más grande, por lo que clasificaría algunos tumores como benignos cuando en realidad son tumores malignos. Este error se debe al nuevo dato, de hecho, para ser honestos, el ajuste rosado solo era correcto por cuestión de suerte, realmente un ajuste lineal no resulta un modelo confiable para este tipo de problemas y esto se debe a lo siguiente:\n",
    "\n",
    " - El modelo toma valores distintos a los que se busca predecir (0 y 1)\n",
    " - La regresión lineal no es un modelo de clasificación"
   ]
  },
  {
   "cell_type": "markdown",
   "id": "b3f636fd",
   "metadata": {},
   "source": [
    "## 6.2 Representación de la función hipótesis"
   ]
  },
  {
   "cell_type": "markdown",
   "id": "c25c08e7",
   "metadata": {},
   "source": [
    "En la regresión logística, vamos a representar a la función $h_\\theta$ como:\n",
    "\n",
    "$$\n",
    "h_\\theta (x) = g(\\theta^T x) \n",
    "$$\n",
    "\n",
    "donde \n",
    "\n",
    "$$\n",
    "g(z) = \\frac{1}{1+e^{-z}}\n",
    "$$\n",
    "\n",
    "La función $g$ es comúnmente llamada función logística o función de sigmoide,  y su gráfica es de la forma:\n",
    "\n",
    "![Title](Imágenes\\6-2-1.png)"
   ]
  },
  {
   "cell_type": "markdown",
   "id": "e352a56f",
   "metadata": {},
   "source": [
    "Así, la función hipótesis tiene la forma:\n",
    "\n",
    "$$\n",
    "h_\\theta(x) = \\frac{1}{1+e^{-\\Theta^T x}}\n",
    "$$"
   ]
  },
  {
   "cell_type": "markdown",
   "id": "77e4cad2",
   "metadata": {},
   "source": [
    "Veamos ahora como interpretar esta función. El valor que arroje $h_\\theta (x)$ es la probabilidad estimada de que $y=1$ en $x$, por ejemplo:\n",
    "\n",
    "$$\n",
    "x = [x_o, x_1] = [1, \\text{Tamaño del tumor}]\n",
    "$$\n",
    "\n",
    "Entonces para un cierto vector $x$, si $h_\\theta(x) = 0.7$, el tumor tiene un $70\\%$ de probabilidad de ser maligno."
   ]
  },
  {
   "cell_type": "markdown",
   "id": "5d77e5be",
   "metadata": {},
   "source": [
    "De una manera más formal, la función hipótesis puede escribirse matemáticamente como:\n",
    "\n",
    "$$\n",
    "h_\\theta (x) = p(y=1|x; \\theta) \n",
    "$$\n",
    "\n",
    "Por ende debe cumplirse que:\n",
    "\n",
    "$$\n",
    "p(y=0|x; \\theta) + p(y=1|x; \\theta) = 1 \n",
    "$$\n",
    "\n",
    "donde $p(y=0|x; \\theta)$ es la probabilidad de que el tumor sea benigno."
   ]
  },
  {
   "cell_type": "markdown",
   "id": "93c4982c",
   "metadata": {},
   "source": [
    "## 6.3 Límites de decisión"
   ]
  },
  {
   "cell_type": "markdown",
   "id": "a6ec4e45",
   "metadata": {},
   "source": [
    "Analizemos un poco a la función logística:"
   ]
  },
  {
   "cell_type": "code",
   "execution_count": 1,
   "id": "a6556414",
   "metadata": {},
   "outputs": [],
   "source": [
    "import numpy as np\n",
    "from matplotlib import pyplot as plt"
   ]
  },
  {
   "cell_type": "code",
   "execution_count": 2,
   "id": "073b12a7",
   "metadata": {},
   "outputs": [
    {
     "data": {
      "image/png": "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\n",
      "text/plain": [
       "<Figure size 1080x360 with 1 Axes>"
      ]
     },
     "metadata": {
      "needs_background": "light"
     },
     "output_type": "display_data"
    }
   ],
   "source": [
    "plt.figure(figsize = (15, 5))\n",
    "\n",
    "def sigmoide(x):\n",
    "   return 1/(1+ np.exp(-x))\n",
    "\n",
    "x = np.linspace(-8, 8, 100)\n",
    "\n",
    "plt.plot(x, sigmoide(x), color='red')\n",
    "plt.show()"
   ]
  },
  {
   "cell_type": "markdown",
   "id": "2b6b27fb",
   "metadata": {},
   "source": [
    "La función logística $g(z)$ toma valores superiores a $0.5$ siempre que $z>0$, por lo tanto un modelo construido con regresión logística $h_\\theta (x)$ nos dirá que la probabilidad de que $y=1$ será superior al $50\\%$ siempre que $\\theta^T x > 0$. "
   ]
  },
  {
   "cell_type": "markdown",
   "id": "5d3235e6",
   "metadata": {},
   "source": [
    "Veamos cómo trabaja la función hipótesis, supongamos que se tiene el siguiente conjunto de datos y la siguiente función:\n",
    "\n",
    "![Title](Imágenes\\6-3-1.png)"
   ]
  },
  {
   "cell_type": "markdown",
   "id": "17f6bffc",
   "metadata": {},
   "source": [
    "Entonces la condición $y=1$ se cumplirá siempre que $\\theta^T x > 0$ o escrito de otra forma:\n",
    "\n",
    "$$\n",
    "\\theta_o + \\theta_1 x_1 +\\theta_2 x_2 \\geq 0 \n",
    "$$\n",
    "\n",
    "Si obtenemos $\\theta = [-3,1,1]$ se tiene:\n",
    "\n",
    "$$\n",
    "-3 + x_1 + x_2  \\geq 0  \\hspace{1cm} \\Rightarrow \\hspace{1cm} x_1 + x_2 \\geq 3\n",
    "$$\n",
    "\n",
    "Por lo tanto, si tomamos el caso límite donde $x_1 + x_2 = 3$ y lo graficamos (línea rosa), es claro como esta actuando el modelo.\n",
    "\n",
    "![Title](Imágenes\\6-3-2.png)"
   ]
  },
  {
   "cell_type": "markdown",
   "id": "2415f7ef",
   "metadata": {},
   "source": [
    "de modo que el área por encima de la recta es la región donde $y=1$ y el area por debajo donde $y=0$. La línea rosada es llamada \"límite de decisión\", ya que representa el caso límite donde el modelo diferencía las 2 categorías. Cabe destacar que nosotros mismos hemos realizado esa categrización al escoger un valor $z$ tal que $g(z) \\geq 0.5$ pero bien podríamos escoger otro valor para $g(z)$ y las regiones de clasificación se verían también afectadas. "
   ]
  },
  {
   "cell_type": "markdown",
   "id": "58b36145",
   "metadata": {},
   "source": [
    "Supongamos ahora el siguiente caso:\n",
    "\n",
    "![Title](Imágenes\\6-3-3.png)"
   ]
  },
  {
   "cell_type": "markdown",
   "id": "48b124de",
   "metadata": {},
   "source": [
    "Se han agregado 2 nuevos atributos que corresponden a un valor cuadrático de $x_1$ y $x_2$. Si se encuentra que:\n",
    "\n",
    "$$\n",
    "\\theta = [\\theta_o,\\theta_1,\\theta_2,\\theta_3,\\theta_4] = [-1,0,0,1,1]\n",
    "$$"
   ]
  },
  {
   "cell_type": "markdown",
   "id": "f3cad1e2",
   "metadata": {},
   "source": [
    "De modo que para que se cumpla $y=1$ se deberá cumplir $-1 + x_1^2 + x_2^2 \\geq 0$, así, el caso límite se dará cuando:\n",
    "\n",
    "$$\n",
    "x_1^2 + x_2^2 = 1\n",
    "$$\n",
    "\n",
    "lo que representa la ecuación de una circunferencia de radio 1 con centro en el origen.\n",
    "\n",
    "![Title](Imágenes\\6-3-4.png)"
   ]
  },
  {
   "cell_type": "markdown",
   "id": "347eb5a1",
   "metadata": {},
   "source": [
    "## 6.4 Cost Function"
   ]
  },
  {
   "cell_type": "markdown",
   "id": "7fc20fa6",
   "metadata": {},
   "source": [
    "Si se tiene un conjunto de entrenamiento dado por $\\{(x^{(1)},y^{(1)}),(x^{(2)},y^{(2)}),...,(x^{(m)},y^{(m)})\\}$, donde $x \\in [x_o,x_1,...,x_n]$ con $x_o=1$ y $y \\in {0,1}$ (por ser un problema de clasificación), entonces ¿cómo se escogen los parámetros $\\theta$ en la función hipótesis?\n",
    "\n",
    "$$\n",
    "h_\\theta (x) = \\frac{1}{1+e^{- \\theta^T x}}\n",
    "$$\n",
    "\n",
    "En regresión lineal se usa la función $J(\\theta)$ como:\n",
    "\n",
    "$$\n",
    "J(\\theta) = \\frac{1}{m} \\sum_{i=1}^m \\frac{1}{2} (h_\\theta (x^{(i)})-y^{(i)})^2\n",
    "$$\n",
    "\n",
    "Definamos ahora a cost function como:\n",
    "\n",
    "$$\n",
    "cost(h_\\theta (x^{(i)}), y^{(i)}) = \\frac{1}{2} (h_\\theta (x^{(i)})-y^{(i)})^2\n",
    "$$\n",
    "\n",
    "Si grafica la función $J(\\theta)$ encontraríamos una gráfica como la que se muestra a continuación:\n",
    "\n",
    "![Title](Imágenes\\6-4-1.png)\n",
    "\n",
    "La función $J(\\theta)$ definida de esta forma (análoga a la regresión lineal) muestra una conducta \"no-convexa\", por lo que al aplicar el modelo se puede llegar a un mínimo local y no a un mínimo global."
   ]
  },
  {
   "cell_type": "markdown",
   "id": "738a79b5",
   "metadata": {},
   "source": [
    "Para este caso nos gustaría que la función $J(\\theta)$ fuera convexa\n",
    "\n",
    "![Title](Imágenes\\6-4-2.png)"
   ]
  },
  {
   "cell_type": "markdown",
   "id": "5ba75fa3",
   "metadata": {},
   "source": [
    "Para la regresión logística se define cost function como:\n",
    "\n",
    "$$\n",
    "cost(h_\\theta (x^{(i)}), y^{(i)}) = \\left\\{  \n",
    "    \\begin{array}{rcr}\n",
    "    -log(h_\\theta (x^{(i)})) & \\text{si} &  y^{(i)}=1 \\\\\n",
    "    -log(1-h_\\theta (x^{(i)})) & \\text{si} &  y^{(i)}=0\n",
    "     \\end{array} \\right.\n",
    "$$\n",
    "\n",
    "Grafiquemos ambas funciones para darnos una idea de como se verá la gráfica:"
   ]
  },
  {
   "cell_type": "code",
   "execution_count": 23,
   "id": "ec7f0e61",
   "metadata": {},
   "outputs": [
    {
     "data": {
      "image/png": "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\n",
      "text/plain": [
       "<Figure size 1080x360 with 1 Axes>"
      ]
     },
     "metadata": {
      "needs_background": "light"
     },
     "output_type": "display_data"
    }
   ],
   "source": [
    "plt.figure(figsize = (15, 5))\n",
    "\n",
    "def log1(x):\n",
    "   return -np.log(x)\n",
    "\n",
    "def log2(x):\n",
    "   return -np.log(1-x)\n",
    "\n",
    "x = np.linspace(0.001, 0.999, 100)\n",
    "\n",
    "plt.plot(x, log1(x), color='red',label='cost function para y=1')\n",
    "plt.plot(x, log2(x), color='blue',label='cost function para y=0')\n",
    "plt.legend()\n",
    "plt.show()"
   ]
  },
  {
   "cell_type": "markdown",
   "id": "f6c67a8e",
   "metadata": {},
   "source": [
    "De esta manera, si la función $h_\\theta (x)$ se aproxima mucho a $0$ o a $1$, cost function tomará valores que tienden a infinito, esto es intuitivamente bueno para el problema, ya que no se pueden tomar en serio predicciones donde se considere que hay un $100\\%$ de probabilidad de que un tumor sea benigno o maligno sin importat su tamaño, definir a cost function de esa forma hace que ese tipo de modelos se penalizen y no se tomen en serio para detectar un valor mínimo de $J(\\theta)$."
   ]
  },
  {
   "cell_type": "markdown",
   "id": "a6085e9e",
   "metadata": {},
   "source": [
    "## 6.5 Cost function simplificada y Gradient descent"
   ]
  },
  {
   "cell_type": "markdown",
   "id": "ab54190d",
   "metadata": {},
   "source": [
    "Resulta útil definir a cost function de la siguiente forma:\n",
    "\n",
    "$$\n",
    "cost(h_\\theta (x), y) = -y \\log (h_\\theta (x)) - (1-y) \\log(1-h_\\theta (x))\n",
    "$$\n",
    "\n",
    "Esta forma de definir a cost function resulta más compacta y arroja los mismos resultados que la expresión previa para los distintos valores de $y$. De esta forma se puede definir $J(\\theta)$ como:\n",
    "\n",
    "$$\n",
    "J(\\theta) = - \\frac{1}{m} \\left[ \\sum_{i=1}^{m} y^{(i)} \\log (h_\\theta (x^{(i)})) + (1-y^{(i)}) \\log(1-h_\\theta (x^{(i)})) \\right]\n",
    "$$\n",
    "\n"
   ]
  },
  {
   "cell_type": "markdown",
   "id": "ef7451e9",
   "metadata": {},
   "source": [
    "Para hallar los parámetros $\\theta$ encontraremos los valores donde la función $J(\\theta)$ sea mínima y los usaremos en la fucnión:\n",
    "\n",
    "$$\n",
    "h_\\theta (x) = \\frac{1}{1+e^{-\\theta^T x}}\n",
    "$$"
   ]
  },
  {
   "cell_type": "markdown",
   "id": "10ff0d30",
   "metadata": {},
   "source": [
    "Para minimozar a la función $J(\\theta)$ se utilizará el gradient descent, de modo que se usa el algoritmo:\n",
    "\n",
    "$$\n",
    "\\theta_j := \\theta_j - \\alpha \\frac{\\partial}{\\partial \\theta_j} J(\\theta)\n",
    "$$\n",
    "\n",
    "donde\n",
    "\n",
    "$$\n",
    "\\frac{\\partial}{\\partial \\theta_j} J(\\theta) = \\sum_{i=1}^m (h_\\theta(x^{(i)}) - y^{(i)})x_j^{(i)}\n",
    "$$"
   ]
  },
  {
   "cell_type": "markdown",
   "id": "4b8fc6dd",
   "metadata": {},
   "source": [
    "Este algoritmo se debe repetir hasta la convergencia y resulta curioso que el algoritmo obtenido es el mismo que el obtenido para la regresión lineal, la única diferencia es la definición de la función de hipótesis $h_\\theta (x)$."
   ]
  },
  {
   "cell_type": "markdown",
   "id": "94657473",
   "metadata": {},
   "source": [
    "## 6.6 Optimización avanzada"
   ]
  },
  {
   "cell_type": "markdown",
   "id": "547d80b6",
   "metadata": {},
   "source": [
    "Existen otros algoritmos que permiten obtener a la función $J(\\theta)$ y a sus derivadas parciales $\\frac{\\partial}{\\partial \\theta_j} J(\\theta)$ tales como:\n",
    "\n",
    " - Gradiente conjugado\n",
    " - BFGS\n",
    " - L-BFGS\n",
    "\n",
    "Estos algoritmos presentan ventajas y desventajas tales como:\n",
    "\n",
    " - No se requiere escoger manualmente el valor $\\alpha$\n",
    " - Son generalmente mas rápidos que el gradient descent\n",
    " - Suelen ser más complejos"
   ]
  },
  {
   "cell_type": "markdown",
   "id": "853b5198",
   "metadata": {},
   "source": [
    "Estos algoritmos quedan fuera de los límites de este curso, pero resulta útil saber de su existencia si se desea optimizar un proceso que requiera ser más eficiente."
   ]
  },
  {
   "cell_type": "markdown",
   "id": "290282ea",
   "metadata": {},
   "source": [
    "## 6.7 Clasificación de multiclases OneVsAll"
   ]
  },
  {
   "cell_type": "markdown",
   "id": "6069b454",
   "metadata": {},
   "source": [
    "Los problemas de clasificación no solo pueden tener 2 clasificaciones, pueden tener muchas más en un mismo conjunto de datos, por ejemplo si se quieren catalogar los e-mails de la bandeja de entrada de acuerdo a correos recibidos por la familia, el trabajo o amigos. Al graficar un conjunto de datos de este estilo la gráfica puede verse así:\n",
    "\n",
    "![Title](Imágenes\\6-7-1.png)"
   ]
  },
  {
   "cell_type": "markdown",
   "id": "9f0457a8",
   "metadata": {},
   "source": [
    "La clasificación OneVsAll divide al problema en 3 problemas de clasificación binaria, de modo que se tienen 3 funciones hipótesis $h^{(1)}_\\theta (x)$, $h^{(2)}_\\theta (x)$ y $h^{(3)}_\\theta (x)$.\n",
    "\n",
    "![Title](Imágenes\\6-7-2.png)"
   ]
  },
  {
   "cell_type": "markdown",
   "id": "62828b93",
   "metadata": {},
   "source": [
    "donde $h_\\theta^{(i)} (x) = P(y=i|x;0)$ para $i=1,2,3$, por lo que se tienen 3 clasificadores diferentes. Por lo que si se quiere hacer una predicción para una nueva entrada en los datos $x$, se escoge el clasificador con valor máximo.\n",
    "\n",
    "$$\n",
    "\\text{max} h_\\theta^{(i)} (x) \n",
    "$$"
   ]
  }
 ],
 "metadata": {
  "kernelspec": {
   "display_name": "Python 3",
   "language": "python",
   "name": "python3"
  },
  "language_info": {
   "codemirror_mode": {
    "name": "ipython",
    "version": 3
   },
   "file_extension": ".py",
   "mimetype": "text/x-python",
   "name": "python",
   "nbconvert_exporter": "python",
   "pygments_lexer": "ipython3",
   "version": "3.8.8"
  }
 },
 "nbformat": 4,
 "nbformat_minor": 5
}
