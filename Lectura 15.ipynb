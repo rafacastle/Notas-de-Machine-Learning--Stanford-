{
 "cells": [
  {
   "cell_type": "markdown",
   "id": "5614f85a",
   "metadata": {},
   "source": [
    "# Lectura 15\n",
    "## RafaCastle\n",
    "## 15.1 Detección de anomalías - Motivación"
   ]
  },
  {
   "cell_type": "markdown",
   "id": "2f34c72a",
   "metadata": {},
   "source": [
    "Para explicar lo que es la detección de anomalías, es útil dar un ejemplo de su uso.\n",
    "\n",
    "Supongamos que se tiene un conjunto de datos de entrenamiento como el que se muestra a continuación:\n",
    "\n",
    "![Title](Imágenes/15-1-1.png)\n",
    "\n",
    "Si se tomaran los 2 siguientes datos de testeo:\n",
    "\n",
    "![Title](Imágenes/15-1-2.png)\n",
    "\n",
    "Es claro que el dato que se encuentra en el centro esta ubicado en un punto que no resalta en comparación con los otros datos del conjunto de prueba, pero el dato que se encuentra en la parte inferior es definitivamente una anomalía."
   ]
  },
  {
   "cell_type": "markdown",
   "id": "a96b0bc8",
   "metadata": {},
   "source": [
    "Buscamos entonces un algoritmo que nos diga si un cierto dato $x_{\\text{test}}$ es anómalo. Para esto se debe construir un modelo para $p(x)$ (la probabilidad de que $x_{\\text{test}}$ sea una anomalía). Así si tenemos $p(x_{\\text{test}}) < \\psi$ entonces el punto se etiquetará como una anomalía, en caso contrario, $p(x_{\\text{test}}) \\ge \\psi$, se considerará como un punto normal. "
   ]
  },
  {
   "cell_type": "markdown",
   "id": "98a7acc7",
   "metadata": {},
   "source": [
    "## 15.2 Distribución Gaussiana"
   ]
  },
  {
   "cell_type": "markdown",
   "id": "d77c73f6",
   "metadata": {},
   "source": [
    "En esta sección se da un repaso de probabilidad básica, se repasa la forma de la distribución gaussiana (o normal) dejo el [aquí](https://www.youtube.com/watch?v=mh6rAYA0e7Q&list=PLLssT5z_DsK-h9vYZkQkYNWcItqhlRJLN&index=89) el link del vídeo."
   ]
  },
  {
   "cell_type": "markdown",
   "id": "df824a2b",
   "metadata": {},
   "source": [
    "## 15.3 Algoritmo de detección de anomalías"
   ]
  },
  {
   "cell_type": "markdown",
   "id": "16517a4e",
   "metadata": {},
   "source": [
    "Si se tiene un conjunto de entrenamiento $\\{ x^{(1)}, ... ,x^{(m)} \\}$, vamos a modelar a $p(x)$ como:\n",
    "\n",
    "$$\n",
    "p(x) = p(x_1;\\mu_1, \\sigma_1^2)\\cdot p(x_2;\\mu_2, \\sigma_2^2)\\cdot , ..., p(x_n;\\mu_n, \\sigma_n^2)\\cdot\n",
    "$$\n",
    "\n",
    "Donde la notación implica que la variable $x_i$ tiene una distribución normal, una media $\\mu_i$ y una desviación estándar $\\sigma_i$, lo cual se denota $x_1 \\sim N(\\mu_1, \\sigma_1)$. Y se supone que las variables son independientes una de otra. Así, puede escribirse:\n",
    "\n",
    "$$\n",
    "p(x) = \\prod_{j=1}^n p(x_j; \\mu_j, \\sigma_j) = \\prod_{j=1}^n \\frac{1}{\\sqrt{2 \\pi}\\sigma_j} exp \\left[ - \\frac{(x_j - \\mu_j)^2}{2 \\sigma_j^2} \\right]\n",
    "$$\n",
    "\n",
    "con\n",
    "\n",
    "$$\n",
    "\\mu_j = \\frac{1}{m} \\sum_{i = 1}^m x_j^{(i)} \\hspace{1cm} y \\hspace{1cm} \\sigma_j^2 = \\frac{1}{m} \\sum_{i = 1}^m (x_j^{(i)} - \\mu_j)^2\n",
    "$$"
   ]
  },
  {
   "cell_type": "markdown",
   "id": "ce585515",
   "metadata": {},
   "source": [
    "Donde la función $p(x)$ es sustituida en la ecuación ya que se considera que $x$ tiene una distribución normal (ver el vídeo de la sección anterior en caso de confusión). Además se define un valor $\\psi$ tal que si $p(x) < \\psi$, entonces $x$ es anómalo."
   ]
  },
  {
   "cell_type": "markdown",
   "id": "379434cd",
   "metadata": {},
   "source": [
    "## 15.4 Evaluando la detección de una anomalía"
   ]
  },
  {
   "cell_type": "markdown",
   "id": "e4bc09f9",
   "metadata": {},
   "source": [
    "Supongamos que se tiene un conjunto donde ya se etiquetó si los datos son anómalos o no, ($y=0$ si es normal y $y=1$ si es una anomalía). \n",
    "\n",
    "Se tiene un conjunto de entrenamiento: $x^{(1)}, x^{(2)},...,x^{(m)}$\n",
    "\n",
    "Uno de prueba: $\\{ (x^{(1)}_{t}, y^{(1)}_{t}), (x^{(2)}_{t}, y^{(2)}_{t}),...,(x^{(m)}_{t}, y^{(m)}_{t}) \\}$\n",
    "\n",
    "Y uno de validación cruzada: $\\{ (x^{(1)}_{cv}, y^{(1)}_{cv}), (x^{(2)}_{cv}, y^{(2)}_{cv}),...,(x^{(m)}_{cv}, y^{(m)}_{cv}) \\}$"
   ]
  },
  {
   "cell_type": "markdown",
   "id": "62f6b3b3",
   "metadata": {},
   "source": [
    "En este conjunto se tienen $10,000$ datos \"normales\" y $20$ anomalías. En el conjunto de prueba se toman $6,000$ datos normales, y en los de prueba y de validación cruzada se toman $2,000$ normales y 10 anómalos en cada uno. \n",
    "\n",
    "El modelo que se forma con los datos de prueba debe dar como output a $p(x)$ y predecir $y=1$ si $p(x)<\\psi$ y $y=0$ si $p(x)\\ge \\psi$ para los conjuntos de validación y de prueba.\n",
    "\n",
    "Para evaluar el modelo pueden usarse las métricas Precision/Recall, $F_1$ o el análisis de errr tipo 1 y 2. Con el conjunto de validación puede escogerse el valor del parámetro $\\psi$. "
   ]
  },
  {
   "cell_type": "markdown",
   "id": "d9909207",
   "metadata": {},
   "source": [
    "## 15.5 Detección de anomalías vs aprendizaje supervizado"
   ]
  },
  {
   "cell_type": "markdown",
   "id": "588228c4",
   "metadata": {},
   "source": [
    "En general, se utiliza el algoritmo de detección de anomalías cuando se espera obtener un número muy pequeño de estas, es decir cuando se tiene un conjunto donde la mayoría de datos son \"normales\". Si se tiene un gran número de anomalías se recomienda usar un algoritmo de aprendizaje supervizado, ya que puede tratarse como un problema de clasificación. "
   ]
  },
  {
   "cell_type": "markdown",
   "id": "5f59b49a",
   "metadata": {},
   "source": [
    "## 15.6 Escogiendo los atributos"
   ]
  },
  {
   "cell_type": "markdown",
   "id": "b6619f73",
   "metadata": {},
   "source": [
    "A veces se tienen distribuciones no gaussianas para un conjunto de datos como la que se muestra a continuación:\n",
    "\n",
    "![Title](Imágenes/15-6-1.png)\n",
    "\n",
    "Para realizar la transformación en un ejemplo como el anterior, se aplica la función $\\log(x)$ a la variable $x$, es decir $x \\to log(x)$. En general se pueden aplicar funciones a una variable para tratar de volverla más gaussiana y hacer una mejor detección de anomalías."
   ]
  },
  {
   "cell_type": "markdown",
   "id": "adb09e64",
   "metadata": {},
   "source": [
    "## 15.7 Distribución gaussiana multivariada"
   ]
  },
  {
   "cell_type": "markdown",
   "id": "8314653e",
   "metadata": {},
   "source": [
    "Consideremos el siguiente ejemplo:\n",
    "\n",
    "![Title](Imágenes/15-7-1.png)\n",
    "\n",
    "Donde se ve que ambas variables muestran de manera independiente una distribución gaussiana. Ahora, consideremos el punto verde de la gráfica de la izquierda, ¿Cómo saber si se trata de una anomalía? \n",
    "\n",
    "En un análisis en las gráficas de la derecha, notatíamos que el punto está dentro de un rango aceptable para ambos parámetros. Sin embargo es claro que el punto se trata de una anomalía, por lo tanto se requiere atacar el problema de una manera diferente.\n",
    "\n",
    "De manera intuitiva, pueden trazarse zonas en la gráfica de la izquerda donde se tengan diferentes probabilidades de que el punto sea o no una anomalía. En este caso el punto está dentro del segundo círculo, por lo que tiene una probabilidad mayor de ser una anomalía que los puntos en el círculo central. \n",
    "\n",
    "![Title](Imágenes/15-7-2.png)"
   ]
  },
  {
   "cell_type": "markdown",
   "id": "334fcd8a",
   "metadata": {},
   "source": [
    "Así, si $x \\in R^n$, no es recomendable modelar $p(x_1),p(x_2),...$ de manera separada sino modelar a $p(x)$ de un jalón. \n",
    "\n",
    "$$\n",
    "p(x, \\mu, \\Sigma) = \\frac{1}{(2 \\pi)^{n/2} |\\Sigma|^{1/2}} \\exp[-\\frac{1}{2}(x - \\mu)^T \\Sigma^{-1}(x - \\mu)]\n",
    "$$\n",
    "\n",
    "Donde $\\mu \\in R^n$ y $\\Sigma \\in R^{n \\times n}$.  La expresión $|\\Sigma|$ es el determinante de $\\Sigma$. Veamos entonces como se ve la función $p(x)$ para determinados parámetros:\n",
    "\n",
    "![Title](Imágenes/15-7-3.png)\n",
    "\n",
    "![Title](Imágenes/15-7-4.png)\n",
    "\n",
    "![Title](Imágenes/15-7-5.png)"
   ]
  },
  {
   "cell_type": "markdown",
   "id": "639f2c9c",
   "metadata": {},
   "source": [
    "Los valores de la matriz $\\Sigma$ pueden variar, obteniendo distintos tipos de elipses:\n",
    "\n",
    "![Title](Imágenes/15-7-6.png)"
   ]
  },
  {
   "cell_type": "markdown",
   "id": "4476053e",
   "metadata": {},
   "source": [
    "## 15.8 Detección de anomalías usando la distribución multivariada gaussiana"
   ]
  },
  {
   "cell_type": "markdown",
   "id": "a70f5da3",
   "metadata": {},
   "source": [
    "El problema descrito anteriormente puede resolverse de manera gráfica si se observan las distribuciones de la sección anterior. Ahora, tomando algún diagrama $x_1 - x_2$ y graficando el punto a evaluar resulta más simple ver si se trata de una anomalía.\n",
    "\n",
    "![Title](Imágenes/15-7-7.png)\n",
    "\n",
    "Supongamos entonces el caso general, se tiene un conjunto de entramiento: $\\{ x^{(1)}, x^{(2)}, ..., x^{(m)} \\}$ donde se hace un fitting sobre el modelo $p(x)$ al calcular:\n",
    "\n",
    "$$\n",
    "\\mu = \\frac{1}{m} \\sum_{i=1}^m x^{(i)}\n",
    "\\hspace{1cm} y  \\hspace{1cm}\n",
    "\\Sigma  = \\frac{1}{m} \\sum_{i=1}^m(x^{(i)}-\\mu)(x^{(i)}-\\mu)^T\n",
    "$$\n",
    "\n",
    "Ahora, dado un nuevo ejemplo $x_o$ se calcula $p(x_o)$ y se observa si $p(x_o) < \\psi$ donde $\\psi$ es un parámetro que se escoge de manera intuitiva de acuerdo al contexto del problema. \n"
   ]
  },
  {
   "cell_type": "markdown",
   "id": "7ceaac2b",
   "metadata": {},
   "source": [
    "Cabe destacar que este modelo es análogo al anterior \n",
    "\n",
    "$$\n",
    "p(x) = p(x_1; \\mu_1, \\sigma_1^2)\\cdot p(x_1; \\mu_1, \\sigma_1^2) ... p(x_n; \\mu_n, \\sigma_n^2)\n",
    "$$\n",
    "\n",
    "si se cumple:\n",
    "\n",
    "$$\n",
    "\\Sigma = \\left( \\begin{array}{cccc}\n",
    "\\sigma_1^2&0&...&0 \\\\\n",
    "0& \\sigma_2^2&...&0 \\\\\n",
    "...&...&...&... \\\\\n",
    "0& 0 &...&\\sigma_n^2\n",
    "\\end{array} \\right)\n",
    "$$\n",
    "\n",
    "Por lo que el modelo anterior es solo un caso particular del modelo de multivariables. "
   ]
  }
 ],
 "metadata": {
  "kernelspec": {
   "display_name": "Python 3",
   "language": "python",
   "name": "python3"
  },
  "language_info": {
   "codemirror_mode": {
    "name": "ipython",
    "version": 3
   },
   "file_extension": ".py",
   "mimetype": "text/x-python",
   "name": "python",
   "nbconvert_exporter": "python",
   "pygments_lexer": "ipython3",
   "version": "3.8.8"
  }
 },
 "nbformat": 4,
 "nbformat_minor": 5
}
