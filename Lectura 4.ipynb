{
 "cells": [
  {
   "cell_type": "markdown",
   "id": "72db14e7",
   "metadata": {},
   "source": [
    "# Lectura 4\n",
    "\n",
    "## RafaCastle\n",
    "\n",
    "## 4.1 Regresión lineal con múltiples variables"
   ]
  },
  {
   "cell_type": "markdown",
   "id": "05a3b564",
   "metadata": {},
   "source": [
    "Supongamos que se tiene un conjunto de datos $C$ tal que $C = \\{ (x_1^{(1)},x_2^{(1)},x_3^{(1)},x_4^{(1)},y^{(1)}), (x_1^{(2)},x_2^{(2)},x_3^{(2)},x_4^{(2)},y^{(2)}), ... , (x_1^{(M)},x_2^{(M)},x_3^{(M)},x_4^{(M)},y^{(M)}) \\}$. \n",
    "\n",
    "En este caso se tiene un conjunto con 4 variables inputs $(x_1,x_2,x_3,x_4)$ y una variable target $y$. Por lo que la función hipótesis ahora tiene la forma:\n",
    "\n",
    "$$\n",
    "h_\\theta (x) = \\theta_o +\\theta_1 x_1 +\\theta_2 x_2 +\\theta_3 x_3 +\\theta_4 x_4\n",
    "$$\n",
    "\n",
    "Así, para un conjunto con $n$ variables inputs, donde $X = (x_1, x_2, ... , x_n)$ y $\\Theta = (\\theta_1, \\theta_2, ... , \\theta_n)$, la función hipótesis tiene la forma:\n",
    "\n",
    "$$\n",
    "h_\\theta (x) = X \\cdot \\Theta = \\sum_{i=0}^n \\theta_i x_i \n",
    "$$\n",
    "\n",
    "donde $x_o = 1$."
   ]
  },
  {
   "cell_type": "markdown",
   "id": "6f8632d5",
   "metadata": {},
   "source": [
    "## 4.2 Gradient descent para múltiples variables"
   ]
  },
  {
   "cell_type": "markdown",
   "id": "a8ef81c7",
   "metadata": {},
   "source": [
    "Con múltiples variables, la función $J$ pasa a ser función de la matriz $\\Theta$, es decir $J = J(\\Theta)$. El algoritmo para minimizar la función $J$ se convierte entonces en:\n",
    "\n",
    "$$\n",
    "\\theta_j = \\theta_j - \\alpha \\frac{1}{m} \\sum_{i=1}{M}(h_\\theta (x_j^{(i)})-y^{(i)})x_j^{(i)} \n",
    "$$"
   ]
  },
  {
   "cell_type": "markdown",
   "id": "4fe6ae3f",
   "metadata": {},
   "source": [
    "## 4.3 El gradiente en la escala práctica de características."
   ]
  },
  {
   "cell_type": "markdown",
   "id": "f9e2661e",
   "metadata": {},
   "source": [
    "Resulta útil \"escalar\" las variables a una escala similar para evitar errores al momento de minimizar la función $J$, si por ejemplo una de las variables ($x_1$) toma valores entre $0$ y $3$ y otra ($x_2$) toma valores entre $10,000$ y $50,000$. El valor escogido de $\\alpha$ puede ser muy grande para una y muy pequeño para la otra, por lo que hace falta reescalarlas:\n",
    "\n",
    "$$\n",
    "x_1 = \\frac{x_1}{3} \\hspace{1cm} y \\hspace{1cm} x_2 = \\frac{x_2 - 10,000}{50,000}\n",
    "$$\n",
    "\n",
    "de modo que ambas variables tomen solo valores entre $0$ y $1$. También es posible hacer una normalización de modo que los valores queden entre -1 y 1 con media en 0 si es conveniente."
   ]
  },
  {
   "cell_type": "markdown",
   "id": "629b9f20",
   "metadata": {},
   "source": [
    "## 4.4 Coeficiente de aprendizaje"
   ]
  },
  {
   "cell_type": "markdown",
   "id": "f781a887",
   "metadata": {},
   "source": [
    "Se puede verificar que el coeficiente de aprendizaje $\\alpha$ este actuando correctamente al graficar su valor cada iteración:\n",
    "\n",
    "![Title](Imágenes\\4-4-1.png)\n",
    "\n",
    "Como se muestra en la gráfica, el valor $J$ debe de disminuir tras cada iteración, para determinar si el algoritmo hace que la función converja, es posible definir una prueba, por ejemplo, si $J(\\theta)$ disminuye menos de $10^{-3}$ en una iteración."
   ]
  },
  {
   "cell_type": "markdown",
   "id": "e17d1533",
   "metadata": {},
   "source": [
    "Si la función $J$ no disminuye su valor, probablemente el valor $\\alpha$ sea demasiado grande y haya que disminuirlo. \n",
    "\n",
    "![Title](Imágenes\\4-4-2.png)"
   ]
  },
  {
   "cell_type": "markdown",
   "id": "d495bf90",
   "metadata": {},
   "source": [
    "Se puede probar de manera matemática que si el valor de $\\alpha$ es lo suficientemente pequeño, entonces el valor de $J$ disminuirá tras cada iteración, o permanecerá igual si ya a convergido."
   ]
  },
  {
   "cell_type": "markdown",
   "id": "7827e2dd",
   "metadata": {},
   "source": [
    "## 4.5 Atributos y regresión polinomial"
   ]
  },
  {
   "cell_type": "markdown",
   "id": "1842dbc1",
   "metadata": {},
   "source": [
    "A veces es posible mezclar atributos para obtener un mejor modelo, por ejemplo, supongamos que se busca predecir el precio de una casa por medio del ancho $x_1$ y del largo $x_2$ de la propiedad, en ese caso la función hipótesis tiene la forma:\n",
    "\n",
    "$$\n",
    "h_\\theta (x) = \\theta_o + \\theta_1 x_1 + \\theta_2 x_2\n",
    "$$\n",
    "\n",
    "Pero es posible definir un nuevo atributo llamado área tal que $x_3 =x_1 \\cdot x_2$, de modo que el modelo que solo en función de $x_3$:\n",
    "\n",
    "$$\n",
    "h_\\theta (x) = \\theta_o + \\theta_3 x_3\n",
    "$$"
   ]
  },
  {
   "cell_type": "markdown",
   "id": "07a2aaf0",
   "metadata": {},
   "source": [
    "Cuando el conjunto de puntos no muestra una conducta lineal, es posible que el mejor ajuste sea una función polinómica, como se muestra en la figura:\n",
    "\n",
    "![Title](Imágenes\\4-5-1.png)"
   ]
  },
  {
   "cell_type": "markdown",
   "id": "33e54f37",
   "metadata": {},
   "source": [
    "En este caso es claro que el polinomio de grado 3 se ajusta mejor al conjunto de datos ya que el polinomio de grado 2 muewstra una conducta decreciente si el tamaño de la casa es muy grande y el conjunto de datos no actuaría así."
   ]
  },
  {
   "cell_type": "markdown",
   "id": "07bfd8e5",
   "metadata": {},
   "source": [
    "Para ajustar este tipo de modelo a la regresión lineal, es posible definir a la función hipótesis de la forma:\n",
    "\n",
    "$$\n",
    "h_\\theta (x) = \\theta_o + \\theta_1 x_1 + \\theta_2 x_2 + \\theta_3 x_3\n",
    "$$\n",
    "\n",
    "Donde $x_1$ es el tamaño, $x_2 = x_1^2$ y $x_3=x_1^3$. Cabe señalar que la magnitud de las variables sería muy distinta, por lo que se requeriría escalar las variables antes de hacer la regresión."
   ]
  },
  {
   "cell_type": "markdown",
   "id": "61f39d1c",
   "metadata": {},
   "source": [
    "## 4.6 Ecuación normal"
   ]
  },
  {
   "cell_type": "markdown",
   "id": "3dda5d84",
   "metadata": {},
   "source": [
    "La ecuación normal proporciona un método para hallar $\\theta$ tal que $J(\\theta)$ sea mínima de manera analítica. Si se tiene una única variable $\\theta$, se deriva la función $J(\\theta)$ con respecto a $\\theta$ y se iguala a cero para obtener el mínimo.\n",
    "\n",
    "$$\n",
    "\\frac{d}{d\\theta} J(\\theta) = 0\n",
    "$$\n",
    "\n",
    "Posteriormente se despeja el valor de $\\theta$ obtenido, en el caso de que la función tenga un máximo, se vuelve a derivar la función $J$ y se observa si se tiene un signo negativo, si el signo es positivo se trata de un mínimo, si es negativo se trata de un máximo.\n",
    "\n",
    "$$\n",
    "\\frac{d^2}{d \\theta^2} J(\\theta) > 0 \\to \\text{mínimo}\n",
    "$$\n",
    "\n",
    "$$\n",
    "\\frac{d^2}{d \\theta^2} J(\\theta) < 0 \\to \\text{máximo}\n",
    "$$"
   ]
  },
  {
   "cell_type": "markdown",
   "id": "2b68713f",
   "metadata": {},
   "source": [
    "En el caso de que la función $J$ dependa de varias variables, se deriva con respecto a cada una de ellas y se iguala a 0, si se tienen $n$ variables entonces se resuelve el sistema de $n$ incógnitas con $n$ ecuaciones.\n",
    "\n",
    "$$\n",
    "\\frac{\\partial}{\\partial \\theta_j} J(\\theta_0, \\theta_1, ... , \\theta_n) = 0 \\hspace{1cm} \\text{para} \\hspace{1cm} j=0,1,...,n\n",
    "$$"
   ]
  },
  {
   "cell_type": "markdown",
   "id": "1944f65c",
   "metadata": {},
   "source": [
    "### Ejemplo\n",
    "\n",
    "Encontremos los valores de $\\theta$ en un ejemplo, supongamos que se tiene el siguiente conjunto de datos:"
   ]
  },
  {
   "cell_type": "code",
   "execution_count": 11,
   "id": "1066fc9e",
   "metadata": {},
   "outputs": [
    {
     "data": {
      "text/html": [
       "<div>\n",
       "<style scoped>\n",
       "    .dataframe tbody tr th:only-of-type {\n",
       "        vertical-align: middle;\n",
       "    }\n",
       "\n",
       "    .dataframe tbody tr th {\n",
       "        vertical-align: top;\n",
       "    }\n",
       "\n",
       "    .dataframe thead th {\n",
       "        text-align: right;\n",
       "    }\n",
       "</style>\n",
       "<table border=\"1\" class=\"dataframe\">\n",
       "  <thead>\n",
       "    <tr style=\"text-align: right;\">\n",
       "      <th></th>\n",
       "      <th>Tamaño</th>\n",
       "      <th>Número de dormitorios</th>\n",
       "      <th>Número de pisos</th>\n",
       "      <th>Edad de la casa</th>\n",
       "      <th>Precio</th>\n",
       "    </tr>\n",
       "  </thead>\n",
       "  <tbody>\n",
       "    <tr>\n",
       "      <th>0</th>\n",
       "      <td>2104</td>\n",
       "      <td>5</td>\n",
       "      <td>1</td>\n",
       "      <td>45</td>\n",
       "      <td>460</td>\n",
       "    </tr>\n",
       "    <tr>\n",
       "      <th>1</th>\n",
       "      <td>1416</td>\n",
       "      <td>3</td>\n",
       "      <td>2</td>\n",
       "      <td>40</td>\n",
       "      <td>232</td>\n",
       "    </tr>\n",
       "    <tr>\n",
       "      <th>2</th>\n",
       "      <td>1534</td>\n",
       "      <td>3</td>\n",
       "      <td>2</td>\n",
       "      <td>30</td>\n",
       "      <td>315</td>\n",
       "    </tr>\n",
       "    <tr>\n",
       "      <th>3</th>\n",
       "      <td>852</td>\n",
       "      <td>2</td>\n",
       "      <td>1</td>\n",
       "      <td>36</td>\n",
       "      <td>178</td>\n",
       "    </tr>\n",
       "  </tbody>\n",
       "</table>\n",
       "</div>"
      ],
      "text/plain": [
       "   Tamaño  Número de dormitorios  Número de pisos  Edad de la casa  Precio\n",
       "0    2104                      5                1               45     460\n",
       "1    1416                      3                2               40     232\n",
       "2    1534                      3                2               30     315\n",
       "3     852                      2                1               36     178"
      ]
     },
     "execution_count": 11,
     "metadata": {},
     "output_type": "execute_result"
    }
   ],
   "source": [
    "import pandas as pd\n",
    "\n",
    "tamaño = [2104,1416,1534,852]\n",
    "dormitorios = [5,3,3,2]\n",
    "pisos = [1,2,2,1]\n",
    "años = [45,40,30,36] # antigüedad de la casa\n",
    "precio = [460, 232, 315, 178] # en miles de dólares, variable a predecir\n",
    "\n",
    "datos = {\"Tamaño\":tamaño, \n",
    "        \"Número de dormitorios\": dormitorios,\n",
    "        \"Número de pisos\":pisos,\n",
    "        \"Edad de la casa\":años,\n",
    "        \"Precio\":precio}\n",
    "\n",
    "df=pd.DataFrame(datos)\n",
    "df"
   ]
  },
  {
   "cell_type": "markdown",
   "id": "f583793d",
   "metadata": {},
   "source": [
    "Vamos a agregar una columna con únicamente unos, que denominaremos $x_o$:"
   ]
  },
  {
   "cell_type": "code",
   "execution_count": 12,
   "id": "99fdd241",
   "metadata": {
    "scrolled": true
   },
   "outputs": [
    {
     "data": {
      "text/html": [
       "<div>\n",
       "<style scoped>\n",
       "    .dataframe tbody tr th:only-of-type {\n",
       "        vertical-align: middle;\n",
       "    }\n",
       "\n",
       "    .dataframe tbody tr th {\n",
       "        vertical-align: top;\n",
       "    }\n",
       "\n",
       "    .dataframe thead th {\n",
       "        text-align: right;\n",
       "    }\n",
       "</style>\n",
       "<table border=\"1\" class=\"dataframe\">\n",
       "  <thead>\n",
       "    <tr style=\"text-align: right;\">\n",
       "      <th></th>\n",
       "      <th>xo</th>\n",
       "      <th>Tamaño</th>\n",
       "      <th>Número de dormitorios</th>\n",
       "      <th>Número de pisos</th>\n",
       "      <th>Edad de la casa</th>\n",
       "      <th>Precio</th>\n",
       "    </tr>\n",
       "  </thead>\n",
       "  <tbody>\n",
       "    <tr>\n",
       "      <th>0</th>\n",
       "      <td>1</td>\n",
       "      <td>2104</td>\n",
       "      <td>5</td>\n",
       "      <td>1</td>\n",
       "      <td>45</td>\n",
       "      <td>460</td>\n",
       "    </tr>\n",
       "    <tr>\n",
       "      <th>1</th>\n",
       "      <td>1</td>\n",
       "      <td>1416</td>\n",
       "      <td>3</td>\n",
       "      <td>2</td>\n",
       "      <td>40</td>\n",
       "      <td>232</td>\n",
       "    </tr>\n",
       "    <tr>\n",
       "      <th>2</th>\n",
       "      <td>1</td>\n",
       "      <td>1534</td>\n",
       "      <td>3</td>\n",
       "      <td>2</td>\n",
       "      <td>30</td>\n",
       "      <td>315</td>\n",
       "    </tr>\n",
       "    <tr>\n",
       "      <th>3</th>\n",
       "      <td>1</td>\n",
       "      <td>852</td>\n",
       "      <td>2</td>\n",
       "      <td>1</td>\n",
       "      <td>36</td>\n",
       "      <td>178</td>\n",
       "    </tr>\n",
       "  </tbody>\n",
       "</table>\n",
       "</div>"
      ],
      "text/plain": [
       "   xo  Tamaño  Número de dormitorios  Número de pisos  Edad de la casa  Precio\n",
       "0   1    2104                      5                1               45     460\n",
       "1   1    1416                      3                2               40     232\n",
       "2   1    1534                      3                2               30     315\n",
       "3   1     852                      2                1               36     178"
      ]
     },
     "execution_count": 12,
     "metadata": {},
     "output_type": "execute_result"
    }
   ],
   "source": [
    "unos=[1,1,1,1]\n",
    "df.insert(loc=0, column='xo', value=unos)\n",
    "df"
   ]
  },
  {
   "cell_type": "markdown",
   "id": "5187d04d",
   "metadata": {},
   "source": [
    "Construyamos ahora una matriz $X$ únicamente con el conjunto de atributos:"
   ]
  },
  {
   "cell_type": "code",
   "execution_count": 23,
   "id": "ce0f01e7",
   "metadata": {
    "scrolled": true
   },
   "outputs": [
    {
     "data": {
      "text/plain": [
       "array([[   1, 2104,    5,    1,   45],\n",
       "       [   1, 1416,    3,    2,   40],\n",
       "       [   1, 1534,    3,    2,   30],\n",
       "       [   1,  852,    2,    1,   36]], dtype=int64)"
      ]
     },
     "execution_count": 23,
     "metadata": {},
     "output_type": "execute_result"
    }
   ],
   "source": [
    "import numpy as np\n",
    "X = np.array(df.drop(columns='Precio'))\n",
    "X"
   ]
  },
  {
   "cell_type": "markdown",
   "id": "e186fc3d",
   "metadata": {},
   "source": [
    "y denominemos $y$ al vector que contienen los valores de los precios:"
   ]
  },
  {
   "cell_type": "code",
   "execution_count": 24,
   "id": "1ccd166b",
   "metadata": {},
   "outputs": [
    {
     "data": {
      "text/plain": [
       "array([460, 232, 315, 178], dtype=int64)"
      ]
     },
     "execution_count": 24,
     "metadata": {},
     "output_type": "execute_result"
    }
   ],
   "source": [
    "y=np.array(df[\"Precio\"])\n",
    "y"
   ]
  },
  {
   "cell_type": "markdown",
   "id": "8defa38e",
   "metadata": {},
   "source": [
    "Los valores de $\\Theta$ están dados entonces por la ecuación:\n",
    "\n",
    "$$\n",
    "\\Theta = (X^T X)^{-1}X^T y\n",
    "$$"
   ]
  },
  {
   "cell_type": "code",
   "execution_count": 32,
   "id": "7f8b8bc1",
   "metadata": {},
   "outputs": [
    {
     "data": {
      "text/plain": [
       "array([-439.3984375 ,    0.52111816, -108.140625  ,  -40.484375  ,\n",
       "         -7.94238281])"
      ]
     },
     "execution_count": 32,
     "metadata": {},
     "output_type": "execute_result"
    }
   ],
   "source": [
    "XTX = np.matmul(X.T,X)\n",
    "inv_XTX = np.linalg.inv(XTX)\n",
    "inv_XTX_XT = np.matmul(inv_XTX,X.T)\n",
    "valores_teta=np.matmul(inv_XTX_XT,y)\n",
    "valores_teta "
   ]
  },
  {
   "cell_type": "markdown",
   "id": "004d62bf",
   "metadata": {},
   "source": [
    "Finalmente, para decidir si usar el método del gradiente o la ecuación normal consideremos lo siguiente:\n",
    "\n",
    "El método del gradiente\n",
    " - Necesita un valor $\\alpha$\n",
    " - Se necesitan muchas iteraciones\n",
    " - Funciona correctamente aunque haya una cantidad inmensa de datos\n",
    " \n",
    "La ecuación normal\n",
    " - No necesita un valor $\\alpha$\n",
    " - No hace iteraciones\n",
    " - Puede ser muy lento para una cantidad inmensa de datos, ya que al programa le puede costar muchos recursos invertir una matriz muy grande"
   ]
  },
  {
   "cell_type": "markdown",
   "id": "12a2b1d1",
   "metadata": {},
   "source": [
    "Por estas razones a veces es conveniente usar un método y a veces el otro, particularmente para conjuntos de datos grandes convienen mucho más obtener a los valores de $\\theta$ mediante el método del gradiente."
   ]
  },
  {
   "cell_type": "markdown",
   "id": "7bdc5f08",
   "metadata": {},
   "source": [
    "## 4.7 Matriz no invertible"
   ]
  },
  {
   "cell_type": "markdown",
   "id": "2f2c3def",
   "metadata": {},
   "source": [
    "Puede darse la situación de que la matriz $X^T X$ no sea invertible, por lo que no pueda utilizarse la ecuación normal, es casi improbable que esa situación se presente, aún así, puede presentarse si el número de datos en el conjunto es menor o similar a la cantidad de atributos del conjunto."
   ]
  }
 ],
 "metadata": {
  "kernelspec": {
   "display_name": "Python 3",
   "language": "python",
   "name": "python3"
  },
  "language_info": {
   "codemirror_mode": {
    "name": "ipython",
    "version": 3
   },
   "file_extension": ".py",
   "mimetype": "text/x-python",
   "name": "python",
   "nbconvert_exporter": "python",
   "pygments_lexer": "ipython3",
   "version": "3.8.8"
  }
 },
 "nbformat": 4,
 "nbformat_minor": 5
}
