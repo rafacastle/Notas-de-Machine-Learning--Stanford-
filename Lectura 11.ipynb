{
 "cells": [
  {
   "cell_type": "markdown",
   "id": "977d7ea8",
   "metadata": {},
   "source": [
    "# Lectura 11\n",
    "## RafaCastle\n",
    "## 11.1 Priorizando el trabajo: Ejemplo de clasificación de spam"
   ]
  },
  {
   "cell_type": "markdown",
   "id": "33003776",
   "metadata": {},
   "source": [
    "Supongamos que se tiene un conjunto de correos en los cuales algunos son spam (1) y otros no lo son (0).\n",
    "\n",
    "![Title](Imágenes/11-1-1.png)\n",
    "\n",
    "Para construir al modelo mediante aprendizaje supervizado, se requiere definir:\n",
    "\n",
    " - $x=$ atributos del email\n",
    " - $y=$ spam (1) o no spam (0)\n",
    " \n",
    "Para escoger los atributos a considerar se pueden tomar, por ejemplo, 100 palabras que pueden indicar si el email es spam o no. Palabras como \"comprar, descuento, oferta, promoción, etc\". Estas palabras pueden incluirse en un vector $v$ con 100 elementos.\n",
    "\n",
    "$$\n",
    "v = [\\text{comprar, descuento, oferta, ... ,promoción}]\n",
    "$$\n",
    "\n",
    "y para cada email en el conjunto puede defirnirse $x_j$ como un vector de 100 entradas, dado que si una palabra $v_i$ en $v$ se encuentra en el email, la entrada i-ésima de $x_j$ será 1, si la palabra i-ésima de $v$ no se encuentra en el email, entonces la entrada i-ésima de $x_j$ será 0.\n",
    "\n",
    "$$\n",
    "x_j = [1,1,0,...,0]\n",
    "$$\n",
    "\n"
   ]
  },
  {
   "cell_type": "markdown",
   "id": "45e4843a",
   "metadata": {},
   "source": [
    "Existen otros parámetros a considerar para este problema, por ejemplo el encabezado del correo (nombre de quien lo envía), o el hecho de considerar 2 palabras como la misma, por ejemplo \"descuento\" y \"descuentos\". "
   ]
  },
  {
   "cell_type": "markdown",
   "id": "60b9452b",
   "metadata": {},
   "source": [
    "## 11.2 Análisis de errores"
   ]
  },
  {
   "cell_type": "markdown",
   "id": "0125b5bc",
   "metadata": {},
   "source": [
    "Metodología recomendada:\n",
    "\n",
    " - Desarrollar un algoritmo simpley testearlo con una validación cross.\n",
    " - Graficar las curvas de aprendizaje para decidir si se requieren más datos, características u otra cosa.\n",
    " - Análisis de errores: Examinar manualmente los ejemplos (en un conjunto de validación cross) en los que tu algoritmo se está equivocando. Tratar de detectar en qué tipo de ejemplos se están cometiendo errores.\n",
    " \n",
    "Siempre es importante la evaluación numérica para determinar si las soluciones realmente están dando resultados."
   ]
  },
  {
   "cell_type": "markdown",
   "id": "fd67c1d7",
   "metadata": {},
   "source": [
    "## 11.3 Métricas de error para clases sesgadas"
   ]
  },
  {
   "cell_type": "markdown",
   "id": "89608dc8",
   "metadata": {},
   "source": [
    "Consideremos el problema de clasificación de cáncer, donde se tienen atributos de casos médicos y se quiere determinar si el paciente tiene $(y=1)$ o no $(y=0)$ cancer. Tras hacer una correr el modelo, se encuentra que el conjunto de prueba tiene un error del $1\\%$, sin embargo, solo el $0.5\\%$ de los pacientes tiene cancer. En este caso, el $1\\%$ de error es bastante considerable. \n",
    "\n",
    "En este ejemplo en particular, el modelo podría funcionar únicamente prediciendo resultados negativos y tendría un score muy alto. $99.5\\%$ de sus respuestas serían correctas! \n",
    "\n",
    "Este tipo de problema se denomina de \"clases segadas\", donde el conjunto de datos tiene una cantidad muy superior de una clase (en este caso resultados negativos) que de otra (resultados positivos). \n",
    "\n",
    "En estos problemas se suelen aportar soluciones que, tras evaluarse de forma numérica, pueden disminuir el error. Sin embargo, si se tiene un error del $0.8\\%$ y se pasa a un error del $0.5\\%$ no es del todo claro si la solución está funcionando realmente o solo se está aplicando un algoritmo donde el modelo seleccione más veces resultados negativos. Es decir, es difícil confiar en las mejorías de las soluciones, incluso si tienen mejoras en las evaluaciones numéricas. Por lo tanto se tienen otras evaluaciones numéricas denominadas $\\textbf{Precision/Recall}$, observemos la siguiente tabla:\n",
    "\n",
    "![Title](Imágenes/11-3-1.png)"
   ]
  },
  {
   "cell_type": "markdown",
   "id": "e8676c0f",
   "metadata": {},
   "source": [
    "El parámetro $\\textbf{precision}$ se obtiene mediante la expresión:\n",
    "\n",
    "$$\n",
    "P = \\frac{\\text{True positives}}{\\# \\text{ Predicted positives}} = \\frac{\\text{True positives}}{\\text{True positives} + \\text{False positives}}\n",
    "$$\n",
    "\n",
    "El parámetro $\\textbf{recall}$ se obtiene mediante la expresión:\n",
    "\n",
    "$$\n",
    "R = \\frac{\\text{True positives}}{\\# \\text{ Actual positives}} = \\frac{\\text{True positives}}{\\text{True positives} + \\text{False negatives}}\n",
    "$$\n",
    "\n",
    "De esta forma, si nuestro modelo solo asigna $y=0$ para todas las muestras, entonces tendríamos un valor $R=P=0$. Hay que destacar 2 cosas:\n",
    "\n",
    " 1. El mejor resultado posible es $R = P = 1$\n",
    " 2. La variable $y=1$ debe ser asignada a la clase más rara (en este caso un paciente positivo)\n",
    " \n",
    "De esta forma se tiene una evaluación numérica más confiable para evaluar el modelo."
   ]
  },
  {
   "cell_type": "markdown",
   "id": "7b3d94ff",
   "metadata": {},
   "source": [
    "## 11.4 Precision y recall"
   ]
  },
  {
   "cell_type": "markdown",
   "id": "e43cc5ed",
   "metadata": {},
   "source": [
    "Supongamos que se quiere predecir si un paciente tiene cancer por medio de regresión logística, tal que $0 \\leq h_\\theta (x) \\leq 1$. El modelo funciona de tal forma que:\n",
    "\n",
    " - Predice 1 si h_\\theta (x) \\geq p\n",
    " - Predice 0 si h_\\theta (x) < p\n",
    " \n",
    "Supongamos que queremos predecir $y=1$ (cancer) soolo si se tiene mucha confianza. Por lo tanto hay que incrementar el valor de $p$. De modo que $p \\to 1$. Conforme el valor de $p$ se aproxime a 1, el valor de $\\textbf{precision}$ aumentará pero el valor de $\\textbf{recall}$ decrecerá. "
   ]
  },
  {
   "cell_type": "markdown",
   "id": "f14ec10f",
   "metadata": {},
   "source": [
    "Si se busca evitar falsos negativos, lo mejor es reducir el valor de $p$, tal que $p \\to 0$, de esta forma el valor de $\\textbf{recall}$ aumentará, pero el valor de $\\textbf{precision}$ decrecerá. "
   ]
  },
  {
   "cell_type": "markdown",
   "id": "39f71a9d",
   "metadata": {},
   "source": [
    "El valor de $p$ es denominado \"threshold\" y su relación con los parámetros $\\textbf{precision}$ y $\\textbf{recall}$ puede representarse gráficamente como se muestra a continuación:\n",
    "\n",
    "![Title](Imágenes/11-3-2.png)"
   ]
  },
  {
   "cell_type": "markdown",
   "id": "f84fa4b0",
   "metadata": {},
   "source": [
    "Ahora, basandonos en lo anterior ¿Qué algoritmo es el mejor si se tiene la siguiente tabla? Cabe destacar que los algoritmos 1, 2 y 3 podrían incluso ser el mismo con distintos valor del threshold.\n",
    "\n",
    "$$\n",
    "\\begin{array}{c|c|c|c}\n",
    " & \\text{Precision} & \\text{Recall} & F_1\\text{Score}  \\\\ \\hline\n",
    "\\text{Algoritmo 1} & 0.5 & 0.4  & 0.444 \\\\\n",
    "\\text{Algoritmo 1} & 0.7 & 0.1  & 0.175 \\\\\n",
    "\\text{Algoritmo 1} & 0.02 & 1.0  & 0.0392 \\\\\n",
    "\\end{array}\n",
    "$$"
   ]
  },
  {
   "cell_type": "markdown",
   "id": "157c10cc",
   "metadata": {},
   "source": [
    "Esta respuesta es respondida parcialmente por el valor $F_1\\text{Score}$ que se calcula simplemente por:\n",
    "\n",
    "$$\n",
    "F_1\\text{Score} = 2 \\frac{PR}{P + R}\n",
    "$$"
   ]
  },
  {
   "cell_type": "markdown",
   "id": "1d47468f",
   "metadata": {},
   "source": [
    "En este caso el algoritmo 1 da el mejor score $F_1$, por lo que es el algoritmo más conveniente."
   ]
  },
  {
   "cell_type": "markdown",
   "id": "ebb7b920",
   "metadata": {},
   "source": [
    "## 11.5 Datos para Machine Learning"
   ]
  },
  {
   "cell_type": "markdown",
   "id": "f2da5b26",
   "metadata": {},
   "source": [
    "En resumen, se explica que para que un modelo funcione de manera precisa, generalmente se requieren 2 cosas en el conjunto de datos:\n",
    "\n",
    " 1. Que se use un algoritmo con un número considerable de parámetros\n",
    " 2. Que se tenga un conjunto de datos de entrenamiento lo suficientemente grande\n",
    " \n",
    "De esta forma se evitan errores por alto sesgo y por alta varianza."
   ]
  }
 ],
 "metadata": {
  "kernelspec": {
   "display_name": "Python 3",
   "language": "python",
   "name": "python3"
  },
  "language_info": {
   "codemirror_mode": {
    "name": "ipython",
    "version": 3
   },
   "file_extension": ".py",
   "mimetype": "text/x-python",
   "name": "python",
   "nbconvert_exporter": "python",
   "pygments_lexer": "ipython3",
   "version": "3.8.8"
  }
 },
 "nbformat": 4,
 "nbformat_minor": 5
}
