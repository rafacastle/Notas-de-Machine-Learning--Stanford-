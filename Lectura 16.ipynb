{
 "cells": [
  {
   "cell_type": "markdown",
   "id": "9834be16",
   "metadata": {},
   "source": [
    "# Lectura 16\n",
    "## RafaCastle\n",
    "## 16.1 Sistemas recomendados - Formulación del problema"
   ]
  },
  {
   "cell_type": "markdown",
   "id": "1da15355",
   "metadata": {},
   "source": [
    "Algunas aplicaciones como Spotify o Netflix tienden a recomendar contenido o artículos a la venta a los clientes de manera personalizada, basándose en las series o articulos que éstos han consumido anteriormente. Esto se hace mediante sistemas de inteligencia artificial. \n",
    "\n",
    "Para ilustrar como funcionan estos sistemas consideremos el siguiente ejemplo. Se busca predecir el rating que un usuario le dará a una película. Tomemos la siguiente tabla, donde se muestran 4 usuarios y 5 películas. Los números denotan el rating que le dió un usuario a la película y el signo $?$ denota que el usuario no ha visto la película.\n",
    "\n",
    "![Title](Imágenes/16-1-1.png)"
   ]
  },
  {
   "cell_type": "markdown",
   "id": "8c1dfcc9",
   "metadata": {},
   "source": [
    "Con esta notación, por dar algún ejemplo se tendría $y(1,1) = 5$ y $r(1,1) = 1$. Así, se tiene que $y$ es un número que varía del 0 al 5 siempre que $r=1$. "
   ]
  },
  {
   "cell_type": "markdown",
   "id": "290dac68",
   "metadata": {},
   "source": [
    "## 16.2 Recomendaciones basadas en contenidos"
   ]
  },
  {
   "cell_type": "markdown",
   "id": "3b66d2cc",
   "metadata": {},
   "source": [
    "La primera aproximación se basa en el contenido de la película, podemos analizar (a grandes rasgos) que contenido tiene la película como se muestra en la siguiente tabla:\n",
    "\n",
    "![Title](Imágenes/16-1-2.png)\n",
    "\n",
    "Recordando que siempre debe añadirse el atributo $x_o = 1$, de modo que una película, por decir la primera, tendra un vector asociado definido por:\n",
    "\n",
    "$$\n",
    "x^{(1)} = [x_o,x_1,x_2] = [1,0.9,0]\n",
    "$$\n",
    "\n",
    "Luego, para cada usuario $j$, se tiene un parámetro de aprendizaje $\\theta^{j} \\in R^3$. De modo que se puede predecir el raiting que un usuario $j$ le dará a una película $i$ con:\n",
    "\n",
    "$$\n",
    "(\\theta^{(j)})^T x^{(i)}\n",
    "$$\n",
    "\n",
    "Así, para el usuario 1 y la película 3 se predice un raiting de:\n",
    "\n",
    "$$\n",
    "([0,5,0])^T [1,0.99,0] = 4.95 \n",
    "$$\n",
    "\n",
    "Para explicar porqué $\\theta^{(1)} = [0,5,0]$. Se debe escojer al parámetro $\\theta^{(j)}$ que minimice la expresión:\n",
    "\n",
    "$$\n",
    "\\sum_{i:r(i,j)=1} [(\\theta^{(j)})^T x^{(i)}-y^{(i,j)}]^2 + \\lambda \\sum_{k=1}^n (\\theta^{j}_k)^2\n",
    "$$"
   ]
  },
  {
   "cell_type": "markdown",
   "id": "283ece91",
   "metadata": {},
   "source": [
    "Así, para obtener los parámetros $\\theta$ para todos los usuarios se toman los parámetros que cumplan (con $n_u$ el número de usuarios)\n",
    "\n",
    "$$\n",
    "\\min_{\\theta^{(1)},...,\\theta^{(n_u)}} \\sum_{j=1}^{n_u} \\sum_{i:r(i,j)=1} [(\\theta^{(j)})^T x^{(i)}-y^{(i,j)}]^2 + \\lambda \\sum_{j=1}^{n_u} \\sum_{k=1}^n (\\theta^{j}_k)^2\n",
    "$$\n",
    "\n",
    "Así, podemos definir a la cost function como:\n",
    "\n",
    "$$\n",
    "J(\\theta^{(1)},...,\\theta^{(n_u)}) =  \\sum_{j=1}^{n_u} \\sum_{i:r(i,j)=1} [(\\theta^{(j)})^T x^{(i)}-y^{(i,j)}]^2 + \\lambda \\sum_{j=1}^{n_u} \\sum_{k=1}^n (\\theta^{j}_k)^2\n",
    "$$\n",
    "\n",
    "Y a las iteraciones del gradient descent como \n",
    "\n",
    "$$\n",
    "\\theta_k^{(j)} = \\theta_k^{(j)} - \\alpha \\sum_{i:r(i,j)=1} [(\\theta^{(j)})^T x^{(i)}-y^{(i,j)}]x_k^{(i)} \\hspace{1cm} \\text{ Para }k = 0\n",
    "$$\n",
    "\n",
    "$$\n",
    "\\theta_k^{(j)} = \\theta_k^{(j)} - \\alpha \\left(\\sum_{i:r(i,j)=1} [(\\theta^{(j)})^T x^{(i)}-y^{(i,j)}]x_k^{(i)} + \\lambda \\theta_k^{(j)} \\right) \\hspace{1cm} \\text{ Para }k \\neq 0\n",
    "$$\n",
    "\n",
    "donde\n",
    "\n",
    "$$\n",
    "\\frac{\\partial}{\\partial \\theta_k^{(j)}} J(\\theta^{(1)},...,\\theta^{(n_u)}) = \\left(\\sum_{i:r(i,j)=1} [(\\theta^{(j)})^T x^{(i)}-y^{(i,j)}]x_k^{(i)} + \\lambda \\theta_k^{(j)} \\right)\n",
    "$$"
   ]
  },
  {
   "cell_type": "markdown",
   "id": "ae6af9a5",
   "metadata": {},
   "source": [
    "## 16.3 Filtrado colaborativo"
   ]
  },
  {
   "cell_type": "markdown",
   "id": "d92c8e86",
   "metadata": {},
   "source": [
    "Supongamos que se tiene el siguiente problema\n",
    "\n",
    "![Title](Imágenes/16-3-1.png)\n",
    "\n",
    "Donde no se conoce si el contenido de la película es romántico o de acción. Por otro lado, se conocen los parámetros de aprendizaje de cada usuario: $\\theta_1 = [0,5,0]$, $\\theta_2 = [0,5,0]$, $\\theta_3 = [0,0,5]$ y $\\theta_4 = [0,0,5]$.\n",
    "\n",
    "De modo que pueden calcularse los valores $x^{(i)}$ dado que se conoce $(\\theta^{(j)})^T x^{(i)}$, por ejemplo $(\\theta^{(1)})^T x^{(1)} \\approx 5$, $(\\theta^{(3)})^T x^{(1)} \\approx 0$, etc. "
   ]
  },
  {
   "cell_type": "markdown",
   "id": "66cecdf5",
   "metadata": {},
   "source": [
    "Así, si se tiene dados los valores de $\\theta^{(1)},...,\\theta^{(n_u)}$, para aprender $x^{(i)}$ se toma el valor $x^{(i)}$ tal que:\n",
    "\n",
    "$$\n",
    "\\min_{x^{(i)}} \\frac{1}{2} \\sum_{j:r(i,j)=1}^{n_u} ((\\theta^{(j)})^T x^{(i)}-y^{(i,j)})^2 + \\frac{\\lambda}{2} \\sum_{k=1}^n (x_k^{(i)})^2\n",
    "$$\n",
    "\n",
    "de modo que para aprender $x^{(1)},...,x^{n_m}$ se toman los valores:\n",
    "\n",
    "$$\n",
    "\\min_{x^{(1)},...,x^{n_m}} \\frac{1}{2} \\sum_{i=1}^{n_m} \\sum_{j:r(i,j)=1}^{n_u} ((\\theta^{(j)})^T x^{(i)}-y^{(i,j)})^2 + \\frac{\\lambda}{2} \\sum_{i=1}^{n_m} \\sum_{k=1}^n (x_k^{(i)})^2\n",
    "$$\n",
    "\n",
    "Así que podemos obtener a los valores $x^{(i)}$ a partir de los valores $\\theta^{(j)}$ y viceversa. Así, podrían darse valores $\\theta^{(j)}$ de manera aleatoria y así obtener los valores de $x^{(i)}$ y repetir el proceso para mejorar la precisión de los parámetros $\\theta \\to x \\to \\theta \\to x \\to ...$"
   ]
  },
  {
   "cell_type": "markdown",
   "id": "1e2bb2ac",
   "metadata": {},
   "source": [
    "## 16.4 Algoritmo del filtrado colaborativo"
   ]
  },
  {
   "cell_type": "markdown",
   "id": "953a62b7",
   "metadata": {},
   "source": [
    "### NOTA A MÍ MISMO\n",
    "\n",
    "Las lecturas 16, 17 no son indispensables para aprender lo básico sobre el aprendizaje automático, ya que en la lectura 16 se ve un algoritmo de recomendación y  en la lectura 17 se ve un tipo de algoritmo para cantidades masivas de datos, eso podría servir después,  sin embargo por ahora recomiendo dar por terminado el curso y volver solo en caso que debas aprender estos 2 temas a profundidad por alguna razón. \n",
    "\n",
    "La lectura 16 se deja a la mitad, hasta aquí.\n",
    "\n",
    "La lectura 18 es un ejemplo aplicado y la lectura 19 solo son agradecimientos, así es que esas las puedes dar por hechas para siempre."
   ]
  }
 ],
 "metadata": {
  "kernelspec": {
   "display_name": "Python 3",
   "language": "python",
   "name": "python3"
  },
  "language_info": {
   "codemirror_mode": {
    "name": "ipython",
    "version": 3
   },
   "file_extension": ".py",
   "mimetype": "text/x-python",
   "name": "python",
   "nbconvert_exporter": "python",
   "pygments_lexer": "ipython3",
   "version": "3.8.8"
  }
 },
 "nbformat": 4,
 "nbformat_minor": 5
}
