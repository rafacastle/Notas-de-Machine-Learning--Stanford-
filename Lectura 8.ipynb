{
 "cells": [
  {
   "cell_type": "markdown",
   "id": "db62ba3a",
   "metadata": {},
   "source": [
    "# Lectura 8\n",
    "\n",
    "## RafaCastle\n",
    "\n",
    "## 8.1 Representación de las redes neuronales"
   ]
  },
  {
   "cell_type": "markdown",
   "id": "f39a9806",
   "metadata": {},
   "source": [
    "### ¿Porqué se necesitan las redes neuronales?\n",
    "\n",
    "Imaginemos el siguiente problema de clasificación:\n",
    "\n",
    "![Title](Imágenes/8-1-1.png)"
   ]
  },
  {
   "cell_type": "markdown",
   "id": "ee6dbd2c",
   "metadata": {},
   "source": [
    "Si se incluye la cantidad correcta de polinomios en la función hipótesis, podría obtenerse un ajuste como el que se muestra en la figura anterior, sin embargo, no siempre se tienen problemas que dependan únicamente de 2 variables ($x_1, x_2$), en muchos problemas se tiene una gran cantidad de atributos. Supongamos que se busca la predecir si una casa se venderá en los próximos 6 meses de acuerdo a una base de datos, posiblemente esto no dependa únicamente del tamaño de ésta en metros cuadrados, sino también del número de dormitorios, pisos, antigüedad, etc. En ese caso la función hipótesis tendría una cantidad muy grande de polinomios ya que hay muchas combinaciones posibles entre las variables y esto no siempre es bueno ya que es caro en términos computacionales y es fácil que se de un overfitting. Es posible tomar solo un subconjunto de los atributos pero en dicho caso el probable que la predicción no sea del todo precisa."
   ]
  },
  {
   "cell_type": "markdown",
   "id": "5b9afaf0",
   "metadata": {},
   "source": [
    "Supongamos ahora otro problema, donde el objetivo es que la máquina detecte en una imágen hay un automóvil. La computadora \"ve\" a la imágen como un arreglo numérico como se muestra en la figura:\n",
    "\n",
    "![Title](Imágenes/8-1-2.png)"
   ]
  },
  {
   "cell_type": "markdown",
   "id": "4068e41c",
   "metadata": {},
   "source": [
    "Por lo cual no le resulta tan fácil reconocer la imágen como a nosotros. Para resolver este problema se le da a la máquina un conjunto de imágenes y se le especifica cuáles de ellas incluyen un carro. Luego se le da una imágen nueva (testing) y se le pregunta si hay un carro en ella o no. \n",
    "\n",
    "![Title](Imágenes/8-1-3.png)"
   ]
  },
  {
   "cell_type": "markdown",
   "id": "5bbea571",
   "metadata": {},
   "source": [
    "Para entender porque se necesita una hipótesis no-lineal para resolver este problema. Tomemos algunas de las imágenes del conjunto de entrenamiento y hagamos la siguiente gráfica, que se construye fijando 2 pixeles en particular y tomando el valor de su intensidad, es decir, la gráfica muestra la intensidad del pixel 1 vs la intensidad del pixel 2. \n",
    "\n",
    "![Title](Imágenes/8-1-4.png)"
   ]
  },
  {
   "cell_type": "markdown",
   "id": "d2710ec4",
   "metadata": {},
   "source": [
    "Es claro que se necesita una hipótesis no lienal para separar las categorías\n",
    "\n",
    "![Title](Imágenes/8-1-5.png)"
   ]
  },
  {
   "cell_type": "markdown",
   "id": "6d8d3bdd",
   "metadata": {},
   "source": [
    "### ¿Cuál sería la dimensión del espacio de atributos?\n",
    "\n",
    "Suponiendo que las imágenes sean de $50 \\times 50$ pixeles, entonces el espacio tendría 2,500 atributos, si buscaramos una funcíón cuadrática que contemplara todos estos atributos, nuestra función tendría aproximadamente 3 millones de términos ($x_i \\times x_j$), lo cual sería excesivamente caro en términos computacionales, por lo que se requiere un método diferente para resolver este problema."
   ]
  },
  {
   "cell_type": "markdown",
   "id": "c0f28639",
   "metadata": {},
   "source": [
    "## 8.2 Neuronas y el cerebro"
   ]
  },
  {
   "cell_type": "markdown",
   "id": "99f9229c",
   "metadata": {},
   "source": [
    "### Redes neuronales\n",
    "\n",
    " - Orígenes: Algoritmos que trataban de imitar el aprendizaje del cerebro\n",
    " - Se popularizaron en los 80's y 90's pero su popularidad decreció a finales de los 90's\n",
    " - Recientemente las redes neuronales se han vuelto a utilizar dado que las computadoras modernas son capaces de procesar las grandes cantidades de datos requeridas en los problemas de redes neuronales."
   ]
  },
  {
   "cell_type": "markdown",
   "id": "7ea9f9e4",
   "metadata": {},
   "source": [
    "Uno podría pernsar que un programa que tratara de \"imitar\" al cerebro sería increíblemente complejo. Sin embargo, existe una interesante hipótesis que sugiere el uso de únicamente un algoritmo. Veamos un ejemplo, existe una región del cerebro conectada al oído encargada de interpretar los sonidos, ésta región es la que, en conjunto con el oído, nos permite escuchar.\n",
    "\n",
    "![Title](Imágenes/8-2-1.png)"
   ]
  },
  {
   "cell_type": "markdown",
   "id": "892c2082",
   "metadata": {},
   "source": [
    "Se ha probado científicamente que si la conexión entre el oído y esa parte del cerebro se corta y se \"reconecta\" un nervio óptico en su lugar, esa región del cerebro \"aprenderá\" a ver, o a interpretar las señales recibidas por el ojo.\n",
    "\n",
    "![Title](Imágenes/8-2-2.png)"
   ]
  },
  {
   "cell_type": "markdown",
   "id": "6ef87e50",
   "metadata": {},
   "source": [
    "De esta manera, se busca entonces crear un programa que trabaje con un único algoritmo y pueda aprender a hacer distintas tareas. "
   ]
  },
  {
   "cell_type": "markdown",
   "id": "5c7eaa89",
   "metadata": {},
   "source": [
    "## 8.3 Representación de modelos 1"
   ]
  },
  {
   "cell_type": "markdown",
   "id": "1382c751",
   "metadata": {},
   "source": [
    "Las redes neuronales tratan de imitar el funcionamiento de las neuronas reales, para efectos de estos cursos, enfoquémonos en ciertos componentes de una neurona.\n",
    "\n",
    "![Title](Imágenes/8-3-1.png)"
   ]
  },
  {
   "cell_type": "markdown",
   "id": "a6cb872f",
   "metadata": {},
   "source": [
    " - Nucleus: El \"cuerpo\" de la célula, donde desarrolla sus funciones\n",
    " - Dentrite: Es el componente encargado de recibir señales, resulta útil verlos como \"cables de entrada\"\n",
    " - Axon: Es el componente encargado de emitir señales, se puede ver como un \"cable de salida\"\n",
    " \n",
    "Las neuronas se comunican entre sí por medio de señales eléctricas, denominados pulsos. \n",
    "\n",
    "![Title](Imágenes/8-3-2.png)\n",
    "\n",
    "De esta forma se interpretan todas las señales externas al cerebro, como las sensaciones, la vista, el gusto el olfato, etc. También los pensamientos, los recuerdos y los movimientos corporales tienen su origen en el cerebro por medio de estas redes neuronales. "
   ]
  },
  {
   "cell_type": "markdown",
   "id": "d88f9812",
   "metadata": {},
   "source": [
    "En una red neuronal artificial se usan neuronas artificiales, que imitan el funcionamiento de una neurona real de una manera muy simple. Esta neurona artificial consta de \"cables de entrada, un núcleo y cables de salida\".\n",
    "\n",
    "![Title](Imágenes/8-3-3.png)"
   ]
  },
  {
   "cell_type": "markdown",
   "id": "f27944c2",
   "metadata": {},
   "source": [
    "### Terminología\n",
    "\n",
    "En la imágen anterior se muestra una neurona artificial, con variables de entrada (la variable $x_o =1$ es denominada \"unidad de sesgo\" y puede obviarse su presencia en la neurona aunque no se dibuje explícitamente) y un valor de salida $h_\\theta(x)$. La función $h_\\theta(x)$ está compuesta en este ejemplo por la función sigmoide, que en términos generales se puede reescribir como:\n",
    "\n",
    "$$\n",
    "h_\\theta(x) = g(x)\n",
    "$$\n",
    "\n",
    "La función $g$ es denominada función de activación, los valores de $\\theta$ son denominados \"pesos\" o parámetros del modelo. "
   ]
  },
  {
   "cell_type": "markdown",
   "id": "6c73fedf",
   "metadata": {},
   "source": [
    "### Red neuronal\n",
    "\n",
    "Una red neuronal se compone de dichas neuronas artificiales conectadas unas con otras como se muestra en la imágen.\n",
    "\n",
    "![Title](Imágenes/8-3-4.png)"
   ]
  },
  {
   "cell_type": "markdown",
   "id": "9977aa1e",
   "metadata": {},
   "source": [
    "Las capas de esta red neuronal son denominadas:\n",
    "\n",
    " - Capa 1: Capa de entrada\n",
    " - Capa 2: Capa oculta\n",
    " - Capa 3: Capa de salida\n",
    " \n",
    "El término \"capa de salida\" no es del todo acertado, pero intuitivamente se denomina así ya que en el aprendizaje supervizado uno se logra ver las entradas $X$ y salidas $y$ de un modelo y nada más.  Más adelante se estudiarán redes neuronales con más de una capa oculta. Cabe mencionar que la capa oculta también cuenta con una unidad de sesgo que suele obviarse en las gráficas pero está presente en el modelo."
   ]
  },
  {
   "cell_type": "markdown",
   "id": "3d8f3050",
   "metadata": {},
   "source": [
    "Veamos ahora el funcionamiento de esta red neuronal:\n",
    "\n",
    "![Title](Imágenes/8-3-5.png)"
   ]
  },
  {
   "cell_type": "markdown",
   "id": "340d6c51",
   "metadata": {},
   "source": [
    "Se denota a cada expresión de la capa oculta como $a_i^{(j)}$ que corresponde a la i-ésima \"activación\" en la j-ésima capa y la matríz de pesos entre las capas $j$ y $j+1$ se denota $\\Theta^{(j)}$. Cabe destacar que si la red contiene $s_j$ unidades en la capa $j$, entonces $\\Theta^{(j)}$ será de dimensión $s_{j+1} \\times (s_j +1)$. Más adelante se analizarán los valores de las matrices $\\Theta^{(j)}$."
   ]
  },
  {
   "cell_type": "markdown",
   "id": "5a1d44f9",
   "metadata": {},
   "source": [
    "## 8.4 Representación de modelos 2"
   ]
  },
  {
   "cell_type": "markdown",
   "id": "5512455b",
   "metadata": {},
   "source": [
    "Es posible definir nuevas variables que cumplan:\n",
    "\n",
    "$$\n",
    "z^{(2)}_i = \\sum_{j=0}^{3} \\Theta_{i,j}^{(1)}x_j\n",
    "$$\n",
    "\n",
    "De modo que las ecuaciones anteriores se reescriban como:\n",
    "\n",
    "$$\n",
    "a_i^{(2)} = g(z^{(2)}_i)\n",
    "$$\n",
    "\n",
    "además, si se define $x=[x_0, x_1, x_2, x_3]$ y $z^{(2)} = [z_1^{(2)},z_2^{(2)},z_3^{(2)}]$ entonces las expresiones pueden reescribirse como:\n",
    "\n",
    "$$\n",
    "z^{(2)} = \\Theta^{(1)}x\n",
    "$$\n",
    "\n",
    "$$\n",
    "a^{(2)} = g(z^{(2)})\n",
    "$$"
   ]
  },
  {
   "cell_type": "markdown",
   "id": "96ea2b18",
   "metadata": {},
   "source": [
    "el subíndice $(2)$ se refiere a la segunda capa (capa oculta), por lo que podría reescribirse un valor $a^{(1)} = x$ de modo que:\n",
    "\n",
    "$$\n",
    "z^{(2)} = \\Theta^{(1)} a^{(1)}\n",
    "$$"
   ]
  },
  {
   "cell_type": "markdown",
   "id": "a1e21810",
   "metadata": {},
   "source": [
    "Finalmente se define $z^{(3)}$ como:\n",
    "\n",
    "$$\n",
    "z^{(3)} = \\sum_{j=0}^{3} \\Theta_{i,j}^{(2)}a_j^{(2)}\n",
    "$$\n",
    "\n",
    "de modo que\n",
    "\n",
    "$$\n",
    "h_\\theta (x) = g(z^{(3)}) = a^{(3)}\n",
    "$$"
   ]
  },
  {
   "cell_type": "markdown",
   "id": "22d9f5a7",
   "metadata": {},
   "source": [
    "Cabe mencionar que se pueden tener redes neuronales con más de una capa oculta y con diferente cantidad de neuronas por capa, la forma de la red neuronal es denominada arquitectura.\n",
    "\n",
    "![Title](Imágenes/8-3-6.png)"
   ]
  },
  {
   "cell_type": "markdown",
   "id": "d0ec2ec7",
   "metadata": {},
   "source": [
    "##  8.5 Ejemplos e intuición 1"
   ]
  },
  {
   "cell_type": "markdown",
   "id": "d9d4bf1d",
   "metadata": {},
   "source": [
    "Imaginemos que se busca crear un modelo que delimite una frontera que divida a las 2 categorías que existen en este conjunto de datos:\n",
    "\n",
    "![Title](Imágenes/8-5-1.png)"
   ]
  },
  {
   "cell_type": "markdown",
   "id": "cd2eed86",
   "metadata": {},
   "source": [
    "Para mostrar el funcionamiento de una red neuronal tomemos un ejemplo simplificado de este conjunto de datos\n",
    "\n",
    "![Title](Imágenes/8-5-2.png)\n",
    "\n",
    "Las clasificaciones para este conjunto de datos pueden reproducirse usando la compuerta lógica \"xnor\" de modo que si $y=x_1 \\text{ xnor } x_2$ entonces el dato será una cruz roja si $y=1$ y un círculo azúl si $y=0$."
   ]
  },
  {
   "cell_type": "markdown",
   "id": "ffc8764b",
   "metadata": {},
   "source": [
    "Reproduzcamos con una red neuronal la compuerta lógica \"and\", consideremos la siguiente neurona donde $a^{(1)} = (x_0,x_1,x_2)$, como siempre, $x_0 = 1$. \n",
    "\n",
    "![Title](Imágenes/8-5-3.png)\n",
    "\n",
    "En esta neurona la función hipótesis está dada por:\n",
    "\n",
    "$$\n",
    "h_\\Theta (x) = g (-30 + 20x_1 + 20x_2)\n",
    "$$"
   ]
  },
  {
   "cell_type": "markdown",
   "id": "3e23aee4",
   "metadata": {},
   "source": [
    "Recordemos que la función $g$ es la función sigmoide, de esta forma al darle valores a las variables $x_1$ y $x_2$ obtenemos la siguiente tabla:\n",
    "\n",
    "\\begin{array}{cc|c } \n",
    " x_1 & x_2 & h_\\Theta (x) \\\\ \\hline\n",
    " 0 & 0 & g(-30) \\approx 0 \\\\ \n",
    " 0 & 1 & g(-10) \\approx 0 \\\\ \n",
    " 1 & 0 & g(-10) \\approx 0 \\\\ \n",
    " 1 & 1 & g(10) \\approx 1 \\\\ \n",
    "\\end{array}"
   ]
  },
  {
   "cell_type": "markdown",
   "id": "ad4ad21b",
   "metadata": {},
   "source": [
    "Para la compuerta \"or\" se tendría una neurona de la forma:\n",
    "\n",
    "![Title](Imágenes/8-5-4.png)\n",
    "\n",
    "donde $h_\\Theta (x) = g (-10 + 20x_1 + 20x_2)$, por lo que la tabla de verdad adquiere la forma:\n",
    "\n",
    "\\begin{array}{cc|c } \n",
    " x_1 & x_2 & h_\\Theta (x) \\\\ \\hline\n",
    " 0 & 0 & g(-10) \\approx 0 \\\\ \n",
    " 0 & 1 & g(10) \\approx 1 \\\\ \n",
    " 1 & 0 & g(10) \\approx 1 \\\\ \n",
    " 1 & 1 & g(30) \\approx 1 \\\\ \n",
    "\\end{array}"
   ]
  },
  {
   "cell_type": "markdown",
   "id": "be263cca",
   "metadata": {},
   "source": [
    "##  8.5 Ejemplos e intuición 2"
   ]
  },
  {
   "cell_type": "markdown",
   "id": "d8042c4c",
   "metadata": {},
   "source": [
    "Construyamos ahora la compuerta \"not\", para este caso se tiene la neurona:\n",
    "\n",
    "![Title](Imágenes/8-6-1.png)\n",
    "\n",
    "donde $h_\\Theta (x) = g(10-20x_1)$, así:\n",
    "\n",
    "\\begin{array}{c|c } \n",
    " x_1 & h_\\Theta (x) \\\\ \\hline\n",
    " 0 & g(10) \\approx 1 \\\\ \n",
    " 1 & g(-10) \\approx 0 \\\\ \n",
    "\\end{array}\n",
    "\n",
    "Habiendo construído estas compuertas, podemos resolver el problema planteado inicialmente en la sección anterior, la compuerta \"xnor\". \n",
    "\n",
    "![Title](Imágenes/8-6-2.png)"
   ]
  },
  {
   "cell_type": "markdown",
   "id": "5e28328d",
   "metadata": {},
   "source": [
    "## 8.7 Clasificación de multiclase"
   ]
  },
  {
   "cell_type": "markdown",
   "id": "1b745e5e",
   "metadata": {},
   "source": [
    "Imaginemos que ahora no solo se busca clasificar si en la imagen hay un automóvil, sino que se busca saber si se trata de un peatón, un automóvil, una motocicleta o un camión.\n",
    "\n",
    "![Title](imágenes/8-7-1.png)"
   ]
  },
  {
   "attachments": {},
   "cell_type": "markdown",
   "id": "6acd47c3",
   "metadata": {},
   "source": [
    "En dicho caso se requiere que la última capa de la red neuronal tenga 4 \"salidas\" como se muestra en la imágen:\n",
    "\n",
    "![Title](imágenes/8-7-2.png)"
   ]
  },
  {
   "cell_type": "markdown",
   "id": "7cfb0979",
   "metadata": {},
   "source": [
    "donde se buscaría que la función hipótesis tome el valor $h_\\Theta (x) \\approx [1,0,0,0]$ para un peatón, $h_\\Theta (x) \\approx [0,1,0,0]$ para un automóvil y así sucesivamente. \n",
    "\n",
    "Para este ejemplo el conjunto de entrenamiento debe ser de la forma: $\\{(x^{(1)},y^{(1)}),(x^{(2)},y^{(2)}),...,(x^{(m)},y^{(m)})\\}$ con $y^{(1)} = [1,0,0,0]$ para peatones, $y^{(2)} = [0,1,0,0]$ para automóviles, etc. $x_i$ es una imágen."
   ]
  }
 ],
 "metadata": {
  "kernelspec": {
   "display_name": "Python 3",
   "language": "python",
   "name": "python3"
  },
  "language_info": {
   "codemirror_mode": {
    "name": "ipython",
    "version": 3
   },
   "file_extension": ".py",
   "mimetype": "text/x-python",
   "name": "python",
   "nbconvert_exporter": "python",
   "pygments_lexer": "ipython3",
   "version": "3.8.8"
  }
 },
 "nbformat": 4,
 "nbformat_minor": 5
}
