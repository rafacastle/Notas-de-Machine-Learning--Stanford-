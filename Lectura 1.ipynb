{
 "cells": [
  {
   "cell_type": "markdown",
   "id": "a14defd9",
   "metadata": {},
   "source": [
    "# Notas de Machine Learning\n",
    "## RafaCastle\n",
    "\n",
    "Estos Notebooks son mis notas en español del famoso curso de Aprendizaje de Máquina de la Universidad de Stanford.\n",
    "\n",
    "# Lectura 1"
   ]
  },
  {
   "cell_type": "markdown",
   "id": "fffe4662",
   "metadata": {},
   "source": [
    "## 1.1  ¿Qué es Machine Learning?\n",
    "\n",
    "Se dice que un programa de computadora \"aprende\" a partir de una experiencia $E$ con respecto a una tarea $T$ y con una medida de rendimiento $R$, si su rendimiento en $T$ medido por $R$ mejora con experiencia $E$."
   ]
  },
  {
   "cell_type": "markdown",
   "id": "01b8d5b1",
   "metadata": {},
   "source": [
    "## Algoritmos de Machine Learning\n",
    "\n",
    " - Aprendizaje supervizado : Le enseñamos a la máquina como hacer algo.\n",
    " - Aprendizaje no supervisado : Dejamos que la máquina lo aprenda sola."
   ]
  },
  {
   "cell_type": "markdown",
   "id": "e5e36de9",
   "metadata": {},
   "source": [
    "## 1.2 Aprendizaje supervisado"
   ]
  },
  {
   "cell_type": "markdown",
   "id": "d7ddfc8f",
   "metadata": {},
   "source": [
    "En la siguiente gráfica se muestra como varía el precio dependiendo del tamaño de las casas en pies cuadrados. Supongamos que se busca predecir el precio de una casa dependiendo de su tamaño, se sabe que la casa tiene 750 pies cuadrados.\n",
    "\n",
    "![title](Imágenes/1-2-1.png)"
   ]
  },
  {
   "cell_type": "markdown",
   "id": "a6cc4149",
   "metadata": {},
   "source": [
    "### ¿Cómo nos puede ayudar un algoritmo de Machine Learning?\n",
    "\n",
    "Un algoritmo simple podría ajustar una recta que (línea rosa) que predice un precio de 150 mil dólares, sin embargo este no necesariamente es el mejor ajuste posible, un ajuste con una función cuadrática se ajustaría mejor (línea azul).\n",
    "\n",
    "![title](Imágenes/1-2-2.png)"
   ]
  },
  {
   "cell_type": "markdown",
   "id": "eaf308c8",
   "metadata": {},
   "source": [
    "Ambos ajustes son ejemplos de algoritmos que corresponden a un aprendizaje supervizado. El término supervizado se debe a que se le dió al algoritmo un conjunto de datos con las \"respuestas correctas\" que corresponden a las \"x\" rojas en las gráficas. Estos son los precios reales de una casa dado un determinado tamaño. La tarea del algoritmo en este caso únicamente fue producir más de estas \"respuestas correctas\". \n",
    "\n",
    "Este problema también puede ser denominado \"problema de regresión\", se le denomina \"de regresión\" porque se intenta predecir un valor continuo (en este caso el precio)."
   ]
  },
  {
   "cell_type": "markdown",
   "id": "59c83f95",
   "metadata": {},
   "source": [
    "Tomemos ahora el siguiente conjunto de datos, donde se muestran 10 casos de tumores. En la gráfica se grafica el tamaño del tumor y se determina si el tumor es maligno (1(Y)) o benigno (0(N)). \n",
    "\n",
    "![title](Imágenes/1-2-3.png)"
   ]
  },
  {
   "cell_type": "markdown",
   "id": "527cbc68",
   "metadata": {},
   "source": [
    "Ahora supongamos que alguien tiene un tumor de un cierto tamaño, la pregunta para un algoritmo de aprendizaje de máquina sería: ¿Cuál es la probabilidad de que ese tumor sea maligno? Este problema se considera de clasificación ya que se busca predecir un valor discreto: 0 (benigno) o 1 (maligno), cabe destacar que un algoritmo de clasificación no necesariamente debe predecir uno de 2 valores, pueden haber varias categorías, por ejemplo el tipo de tumor, etc. "
   ]
  },
  {
   "cell_type": "markdown",
   "id": "884aaf64",
   "metadata": {},
   "source": [
    "Este problema puede verse en una dimensión para simplificarse\n",
    "\n",
    "![title](Imágenes/1-2-4.png)"
   ]
  },
  {
   "cell_type": "markdown",
   "id": "de48d5fe",
   "metadata": {},
   "source": [
    "Es posible que la clasificación venga determinada por 2 o más variables, como se muestra en el siguiente ejemplo:\n",
    "\n",
    "![title](imágenes/1-2-5.png)"
   ]
  },
  {
   "cell_type": "markdown",
   "id": "27c81178",
   "metadata": {},
   "source": [
    "En este ejemplo, un algoritmo trazaría una línea recta que separara ambas categorías (línea negra). Si se diera un ejemplo nuevo, de una persona con una cierta edad y un tumor de un cierto tamaño, el algoritmo lo clasificaría con respecto a su ubicación en la gráfica, específicamente con respecto a la línea."
   ]
  },
  {
   "cell_type": "markdown",
   "id": "46391112",
   "metadata": {},
   "source": [
    "Existen algoritmos que pueden manejar más de 2 o 3 categorías, con estos algoritmos es posible manejar un número infinito de estas. ¿Cómo se puede almacenar una cantidad infinita de elementos en una computadora sin acabar con la memoria? \n",
    "\n",
    "Resulta que al utilizar un algoritmo denominado SVM (support vector machine), se usa un atajo matemático que le permitirá a la máquina manejar una cantidad infinita de categorías. "
   ]
  },
  {
   "cell_type": "markdown",
   "id": "9f08d4cb",
   "metadata": {},
   "source": [
    "## 1.3 Aprendizaje no supervisado"
   ]
  },
  {
   "cell_type": "markdown",
   "id": "1cc654c8",
   "metadata": {},
   "source": [
    "Los ejemplos que vimos sobre aprendizaje supervizado eran como los mostrados en la gráfica de la izquierda, donde cada dato esta catalogado según su categoría, es decir, se nos decía explícitamente cuales eran las \"respuestas correctas\" acerca de la categoría del dato. En el aprendizaje no supervizado se nos da un conjunto de datos que no está etiquetado, como se muestra en la figura de la derecha. Se lanza entonces la pregunta: dado este conjunto de datos ¿Puedes encontrar alguna estructura en los datos? Para este ejemplo en particular se puede observar que los datos estan distribuidos en 2 \"clústers\" diferentes.\n",
    "\n",
    "![title](imágenes/1-3-1.png)"
   ]
  },
  {
   "cell_type": "markdown",
   "id": "23321d7c",
   "metadata": {},
   "source": [
    "Un algoritmo aglomerativo aplicado a este conjunto de datos probablemente agruparía a los datos de la siguiente manera:\n",
    "\n",
    "![title](imágenes/1-3-2.png)"
   ]
  },
  {
   "cell_type": "markdown",
   "id": "6d75ba27",
   "metadata": {},
   "source": [
    "El aprendizaje no supervizado o clustering es utilizado para muchas otras aplicaciones, análisis en redes sociales (obtener conjuntos de amistades donde todos se conozcan), segmentación del mercado, análisis de datos astronómicos, etc...\n",
    "\n",
    "![title](imágenes/1-3-3.png)"
   ]
  },
  {
   "cell_type": "markdown",
   "id": "1fa8b382",
   "metadata": {},
   "source": [
    "Es posible también utilizar un algoritmo de aprendizaje no supervizado para aislar un sonido en particular de algún archido de audio, por ejemplo 2 voces diferentes."
   ]
  }
 ],
 "metadata": {
  "kernelspec": {
   "display_name": "Python 3",
   "language": "python",
   "name": "python3"
  },
  "language_info": {
   "codemirror_mode": {
    "name": "ipython",
    "version": 3
   },
   "file_extension": ".py",
   "mimetype": "text/x-python",
   "name": "python",
   "nbconvert_exporter": "python",
   "pygments_lexer": "ipython3",
   "version": "3.8.8"
  }
 },
 "nbformat": 4,
 "nbformat_minor": 5
}
